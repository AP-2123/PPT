{
  "nbformat": 4,
  "nbformat_minor": 0,
  "metadata": {
    "colab": {
      "provenance": []
    },
    "kernelspec": {
      "name": "python3",
      "display_name": "Python 3"
    },
    "language_info": {
      "name": "python"
    }
  },
  "cells": [
    {
      "cell_type": "markdown",
      "source": [
        "**Question 1**\n",
        "Given an integer array nums of 2n integers, group these integers into n pairs (a1, b1), (a2, b2),..., (an, bn) such that the sum of min(ai, bi) for all i is maximized. Return the maximized sum.\n",
        "\n",
        "**Example 1:**\n",
        "Input: nums = [1,4,3,2]\n",
        "Output: 4\n",
        "\n",
        "**Explanation:** All possible pairings (ignoring the ordering of elements) are:\n",
        "\n",
        "1. (1, 4), (2, 3) -> min(1, 4) + min(2, 3) = 1 + 2 = 3\n",
        "2. (1, 3), (2, 4) -> min(1, 3) + min(2, 4) = 1 + 2 = 3\n",
        "3. (1, 2), (3, 4) -> min(1, 2) + min(3, 4) = 1 + 3 = 4\n",
        "So the maximum possible sum is 4"
      ],
      "metadata": {
        "id": "fzFelIPDcMrI"
      }
    },
    {
      "cell_type": "code",
      "execution_count": 39,
      "metadata": {
        "id": "8gz5h9LCb0Nq"
      },
      "outputs": [],
      "source": [
        "class Solution(object):\n",
        "    def arrayPairSum(self, nums):\n",
        "        \"\"\"\n",
        "        :type nums: List[int]\n",
        "        :rtype: int\n",
        "        \"\"\"\n",
        "        nums.sort()\n",
        "        return sum([i for i in nums[::2]])"
      ]
    },
    {
      "cell_type": "code",
      "source": [
        "nums = [1,4,3,2]\n",
        "sol = Solution()\n",
        "sol.arrayPairSum(nums)"
      ],
      "metadata": {
        "colab": {
          "base_uri": "https://localhost:8080/"
        },
        "id": "Cka1HjkkcFS-",
        "outputId": "165a292d-4324-4dc5-fd14-ad46f8f2c815"
      },
      "execution_count": 40,
      "outputs": [
        {
          "output_type": "execute_result",
          "data": {
            "text/plain": [
              "4"
            ]
          },
          "metadata": {},
          "execution_count": 40
        }
      ]
    },
    {
      "cell_type": "markdown",
      "source": [
        "**Question 2**\n",
        "Alice has n candies, where the ith candy is of type candyType[i]. Alice noticed that she started to gain weight, so she visited a doctor. \n",
        "\n",
        "The doctor advised Alice to only eat n / 2 of the candies she has (n is always even). Alice likes her candies very much, and she wants to eat the maximum number of different types of candies while still following the doctor's advice. \n",
        "\n",
        "Given the integer array candyType of length n, return the maximum number of different types of candies she can eat if she only eats n / 2 of them.\n",
        "\n",
        "**Example 1:**\n",
        "Input: candyType = [1,1,2,2,3,3]\n",
        "Output: 3\n",
        "\n",
        "**Explanation:** Alice can only eat 6 / 2 = 3 candies. Since there are only 3 types, she can eat one of each type."
      ],
      "metadata": {
        "id": "EsrC8wDvdUXP"
      }
    },
    {
      "cell_type": "code",
      "source": [
        "from typing import List\n",
        "class Solution:\n",
        "    def distributeCandies(self, candyType: List[int]) -> int:\n",
        "        l = len(candyType)\n",
        "        eat = l//2\n",
        "        dis_candyType = set(candyType)\n",
        "\n",
        "        if eat <= len(dis_candyType):\n",
        "            return eat\n",
        "\n",
        "        elif eat > len(dis_candyType):\n",
        "            return len(dis_candyType) "
      ],
      "metadata": {
        "id": "XGCwAfHVdICf"
      },
      "execution_count": 41,
      "outputs": []
    },
    {
      "cell_type": "code",
      "source": [
        "candyType = [1,1,2,2,3,3]\n",
        "sol = Solution()\n",
        "sol.distributeCandies(candyType)"
      ],
      "metadata": {
        "colab": {
          "base_uri": "https://localhost:8080/"
        },
        "id": "OKnEOX9yeNzI",
        "outputId": "078c1484-9d7e-4faf-a70e-af3e52bfbdb8"
      },
      "execution_count": 42,
      "outputs": [
        {
          "output_type": "execute_result",
          "data": {
            "text/plain": [
              "3"
            ]
          },
          "metadata": {},
          "execution_count": 42
        }
      ]
    },
    {
      "cell_type": "markdown",
      "source": [
        "**Question 3**\n",
        "We define a harmonious array as an array where the difference between its maximum value\n",
        "and its minimum value is exactly 1.\n",
        "\n",
        "Given an integer array nums, return the length of its longest harmonious subsequence\n",
        "among all its possible subsequences.\n",
        "\n",
        "A subsequence of an array is a sequence that can be derived from the array by deleting some or no elements without changing the order of the remaining elements.\n",
        "\n",
        "**Example 1:**\n",
        "Input: nums = [1,3,2,2,5,2,3,7]\n",
        "Output: 5\n",
        "\n",
        "**Explanation:** The longest harmonious subsequence is [3,2,2,2,3]."
      ],
      "metadata": {
        "id": "iixvU4h-esqD"
      }
    },
    {
      "cell_type": "code",
      "source": [
        "from collections import defaultdict\n",
        "class Solution:\n",
        "    def findLHS(self, nums: List[int]) -> int:\n",
        "        my_dict = defaultdict(int)\n",
        "        # keep in dict the number of times each number appears:\n",
        "        for num in nums:\n",
        "            my_dict[num]+=1\n",
        "            \n",
        "        max_ = 0\n",
        "        # for each number in dict check if it+its following number is more than previous max:\n",
        "        for num in my_dict.keys():\n",
        "            if my_dict.get(num+1):\n",
        "                max_ = max(max_, my_dict[num] + my_dict.get(num+1))\n",
        "        return max_"
      ],
      "metadata": {
        "id": "Tk7EnXnffnwt"
      },
      "execution_count": 43,
      "outputs": []
    },
    {
      "cell_type": "code",
      "source": [
        "nums = [1,3,2,2,5,2,3,7]\n",
        "sol = Solution()\n",
        "sol.findLHS(nums)"
      ],
      "metadata": {
        "colab": {
          "base_uri": "https://localhost:8080/"
        },
        "id": "3YHuhSMQgLr4",
        "outputId": "8aaca91e-d44c-44b5-da8f-85abe8ad57b7"
      },
      "execution_count": 44,
      "outputs": [
        {
          "output_type": "execute_result",
          "data": {
            "text/plain": [
              "5"
            ]
          },
          "metadata": {},
          "execution_count": 44
        }
      ]
    },
    {
      "cell_type": "markdown",
      "source": [
        "**Question 5**\n",
        "Given an integer array nums, find three numbers whose product is maximum and return the maximum product.\n",
        "\n",
        "**Example 1:**\n",
        "Input: nums = [1,2,3]\n",
        "Output: 6"
      ],
      "metadata": {
        "id": "FR_DJP6wgqme"
      }
    },
    {
      "cell_type": "code",
      "source": [
        "class Solution:\n",
        "    def maximumProduct(self, nums: List[int]) -> int:\n",
        "        nums.sort()\n",
        "        return max(nums[0]*nums[1]*nums[-1],nums[-1]*nums[-2]*nums[-3])"
      ],
      "metadata": {
        "id": "3NifxVxSgWtK"
      },
      "execution_count": 45,
      "outputs": []
    },
    {
      "cell_type": "code",
      "source": [
        "nums = [1,2,3]\n",
        "sol = Solution()\n",
        "sol.maximumProduct(nums)"
      ],
      "metadata": {
        "colab": {
          "base_uri": "https://localhost:8080/"
        },
        "id": "up--fUwGhcNg",
        "outputId": "387e0b90-5345-446b-da12-c2420284ff10"
      },
      "execution_count": 46,
      "outputs": [
        {
          "output_type": "execute_result",
          "data": {
            "text/plain": [
              "6"
            ]
          },
          "metadata": {},
          "execution_count": 46
        }
      ]
    },
    {
      "cell_type": "markdown",
      "source": [
        "**Question 6**\n",
        "Given an array of integers nums which is sorted in ascending order, and an integer target,\n",
        "write a function to search target in nums. If target exists, then return its index. Otherwise,\n",
        "return -1.\n",
        "\n",
        "You must write an algorithm with O(log n) runtime complexity.\n",
        "\n",
        "Input: nums = [-1,0,3,5,9,12], target = 9\n",
        "Output: 4\n",
        "\n",
        "**Explanation:** 9 exists in nums and its index is 4"
      ],
      "metadata": {
        "id": "QQOAO8LRh069"
      }
    },
    {
      "cell_type": "code",
      "source": [
        "class Solution(object):\n",
        "    def search(self, nums, target):\n",
        "        \"\"\"\n",
        "        :type nums: List[int]\n",
        "        :type target: int\n",
        "        :rtype: int\n",
        "        \"\"\"\n",
        "        def binary_search(left, right):\n",
        "            if left > right:\n",
        "                return -1\n",
        "            \n",
        "            mid = (left + right) // 2\n",
        "            \n",
        "            if nums[mid] == target:\n",
        "                return mid\n",
        "            elif nums[mid] < target:\n",
        "                return binary_search(mid + 1, right)\n",
        "            else:\n",
        "                return binary_search(left, mid - 1)\n",
        "        \n",
        "        return binary_search(0, len(nums) - 1) "
      ],
      "metadata": {
        "id": "YtXHQWLGhlcg"
      },
      "execution_count": 47,
      "outputs": []
    },
    {
      "cell_type": "code",
      "source": [
        "nums = [-1,0,3,5,9,12]\n",
        "target = 9\n",
        "\n",
        "sol = Solution()\n",
        "sol.search(nums,target)"
      ],
      "metadata": {
        "colab": {
          "base_uri": "https://localhost:8080/"
        },
        "id": "6LPjLeAIivPY",
        "outputId": "1564d771-cd90-4ee3-f675-29b9620ea708"
      },
      "execution_count": 48,
      "outputs": [
        {
          "output_type": "execute_result",
          "data": {
            "text/plain": [
              "4"
            ]
          },
          "metadata": {},
          "execution_count": 48
        }
      ]
    },
    {
      "cell_type": "markdown",
      "source": [
        "**Question 7**\n",
        "An array is monotonic if it is either monotone increasing or monotone decreasing.\n",
        "\n",
        "An array nums is monotone increasing if for all i <= j, nums[i] <= nums[j]. An array nums is\n",
        "monotone decreasing if for all i <= j, nums[i] >= nums[j].\n",
        "\n",
        "Given an integer array nums, return true if the given array is monotonic, or false otherwise.\n",
        "\n",
        "**Example 1:**\n",
        "Input: nums = [1,2,2,3]\n",
        "Output: true"
      ],
      "metadata": {
        "id": "PLcEnVf5jPKO"
      }
    },
    {
      "cell_type": "code",
      "source": [
        "class Solution:\n",
        "  def isMonotonic(self, nums:List[int]) -> bool:\n",
        "      n = len(nums)\n",
        "      baseline = 0\n",
        "      \n",
        "      for i in range(1, n):\n",
        "          if nums[i] - nums[i - 1] > 0: \n",
        "              baseline = 1\n",
        "              break\n",
        "          elif nums[i] - nums[i - 1] < 0:\n",
        "              baseline = -1\n",
        "              break\n",
        "      for i in range(1, n):\n",
        "          if (nums[i] - nums[i - 1]) * baseline < 0:\n",
        "              return False\n",
        "      return True"
      ],
      "metadata": {
        "id": "HJYvaaH6jEcm"
      },
      "execution_count": 49,
      "outputs": []
    },
    {
      "cell_type": "code",
      "source": [
        " nums = [1,2,2,3]\n",
        " sol  =Solution()\n",
        " sol.isMonotonic(nums)"
      ],
      "metadata": {
        "colab": {
          "base_uri": "https://localhost:8080/"
        },
        "id": "HP7BYZvCjoIy",
        "outputId": "75f5e3c5-f144-495d-f558-dfd05eb8e039"
      },
      "execution_count": 50,
      "outputs": [
        {
          "output_type": "execute_result",
          "data": {
            "text/plain": [
              "True"
            ]
          },
          "metadata": {},
          "execution_count": 50
        }
      ]
    },
    {
      "cell_type": "markdown",
      "source": [
        "**Question 8**\n",
        "You are given an integer array nums and an integer k.\n",
        "\n",
        "In one operation, you can choose any index i where 0 <= i < nums.length and change nums[i] to nums[i] + x where x is an integer from the range [-k, k]. You can apply this operation at most once for each index i.\n",
        "\n",
        "The score of nums is the difference between the maximum and minimum elements in nums.\n",
        "\n",
        "Return the minimum score of nums after applying the mentioned operation at most once for each index in it.\n",
        "\n",
        "**Example 1:**\n",
        "Input: nums = [1], k = 0\n",
        "Output: 0\n",
        "\n",
        "Explanation: The score is max(nums) - min(nums) = 1 - 1 = 0."
      ],
      "metadata": {
        "id": "ErYLWuEMkCVa"
      }
    },
    {
      "cell_type": "code",
      "source": [
        "class Solution:\n",
        "  def smallestRange(self, nums: List[int], k: int) -> int:\n",
        "    if len(nums)==1:\n",
        "      return 0\n",
        "    else:\n",
        "      return max(0,max(nums)-min(nums)-2*k)"
      ],
      "metadata": {
        "id": "9LDI8Frvj2JD"
      },
      "execution_count": 51,
      "outputs": []
    },
    {
      "cell_type": "code",
      "source": [
        "nums = [1]\n",
        "k = 0 \n",
        "sol = Solution()\n",
        "sol.smallestRange(nums,k)"
      ],
      "metadata": {
        "colab": {
          "base_uri": "https://localhost:8080/"
        },
        "id": "Aj7xljR6kXjA",
        "outputId": "3de7e042-d30f-4d57-ced0-192fafce0c11"
      },
      "execution_count": 52,
      "outputs": [
        {
          "output_type": "execute_result",
          "data": {
            "text/plain": [
              "0"
            ]
          },
          "metadata": {},
          "execution_count": 52
        }
      ]
    },
    {
      "cell_type": "code",
      "source": [],
      "metadata": {
        "id": "TM__nqGhkqB-"
      },
      "execution_count": 52,
      "outputs": []
    }
  ]
}