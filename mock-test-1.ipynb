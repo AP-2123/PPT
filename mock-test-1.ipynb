{
 "cells": [
  {
   "cell_type": "markdown",
   "id": "e30cfe53",
   "metadata": {},
   "source": [
    "**Given an integer array nums, move all 0's to the end of it while maintaining the relative order of the non-zero elements.**\n",
    "\n",
    "Note that you must do this in-place without making a copy of the array.\n",
    "\n",
    "**Example 1:**\n",
    "    \n",
    "Input: nums = [0,1,0,3,12]\n",
    "Output: [1,3,12,0,0]\n",
    "\n",
    "**Example 2:**\n",
    "    \n",
    "Input: nums = [0]\n",
    "Output: [0]\n",
    "\n",
    "**Constraints:**\n",
    "    \n",
    "a. 1 <= nums.length <= 10^4\n",
    "b. -2^31 <= nums[i] <= 2^31 - 1"
   ]
  },
  {
   "cell_type": "code",
   "execution_count": 1,
   "id": "ecedca2e",
   "metadata": {},
   "outputs": [],
   "source": [
    "class Solution(object):\n",
    "    def moveZeroes(self, nums):\n",
    "        n=len(nums)\n",
    "        for i in range(0,n):\n",
    "            if nums[i]==0:\n",
    "                nums.remove(nums[i])\n",
    "                nums.append(0)\n",
    "        return nums"
   ]
  },
  {
   "cell_type": "code",
   "execution_count": 2,
   "id": "9ff01614",
   "metadata": {},
   "outputs": [
    {
     "data": {
      "text/plain": [
       "[1, 3, 12, 0, 0]"
      ]
     },
     "execution_count": 2,
     "metadata": {},
     "output_type": "execute_result"
    }
   ],
   "source": [
    "nums = [0,1,0,3,12]\n",
    "sol = Solution()\n",
    "sol.moveZeroes(nums)"
   ]
  },
  {
   "cell_type": "code",
   "execution_count": 3,
   "id": "6220a36c",
   "metadata": {},
   "outputs": [
    {
     "data": {
      "text/plain": [
       "[0]"
      ]
     },
     "execution_count": 3,
     "metadata": {},
     "output_type": "execute_result"
    }
   ],
   "source": [
    "nums = [0]\n",
    "sol.moveZeroes(nums)"
   ]
  },
  {
   "cell_type": "code",
   "execution_count": null,
   "id": "3d3a8132",
   "metadata": {},
   "outputs": [],
   "source": []
  }
 ],
 "metadata": {
  "kernelspec": {
   "display_name": "Python 3 (ipykernel)",
   "language": "python",
   "name": "python3"
  },
  "language_info": {
   "codemirror_mode": {
    "name": "ipython",
    "version": 3
   },
   "file_extension": ".py",
   "mimetype": "text/x-python",
   "name": "python",
   "nbconvert_exporter": "python",
   "pygments_lexer": "ipython3",
   "version": "3.9.12"
  }
 },
 "nbformat": 4,
 "nbformat_minor": 5
}
