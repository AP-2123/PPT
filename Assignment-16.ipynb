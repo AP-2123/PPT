{
 "cells": [
  {
   "cell_type": "markdown",
   "id": "af9da356",
   "metadata": {},
   "source": [
    "**Question 1**\n",
    "\n",
    "Given an array, for each element find the value of the nearest element to the right which is having a frequency greater than that of the current element. If there does not exist an answer for a position, then make the value ‘-1’.\n",
    "\n",
    "**Examples:**\n",
    "\n",
    "```\n",
    "Input: a[] = [1, 1, 2, 3, 4, 2, 1]\n",
    "Output : [-1, -1, 1, 2, 2, 1, -1]\n",
    "\n",
    "Explanation:\n",
    "Given array a[] = [1, 1, 2, 3, 4, 2, 1]\n",
    "Frequency of each element is: 3, 3, 2, 1, 1, 2, 3\n",
    "\n",
    "Lets calls Next Greater Frequency element as NGF\n",
    "1. For element a[0] = 1 which has a frequency = 3,\n",
    "   As it has frequency of 3 and no other next element\n",
    "   has frequency more than 3 so  '-1'\n",
    "2. For element a[1] = 1 it will be -1 same logic\n",
    "   like a[0]\n",
    "3. For element a[2] = 2 which has frequency = 2,\n",
    "   NGF element is 1 at position = 6  with frequency\n",
    "   of 3 > 2\n",
    "4. For element a[3] = 3 which has frequency = 1,\n",
    "   NGF element is 2 at position = 5 with frequency\n",
    "   of 2 > 1\n",
    "5. For element a[4] = 4 which has frequency = 1,\n",
    "   NGF element is 2 at position = 5 with frequency\n",
    "   of 2 > 1\n",
    "6. For element a[5] = 2 which has frequency = 2,\n",
    "   NGF element is 1 at position = 6 with frequency\n",
    "   of 3 > 2\n",
    "7. For element a[6] = 1 there is no element to its\n",
    "   right, hence -1\n",
    "    \n",
    "\n",
    "Input : a[] = [1, 1, 1, 2, 2, 2, 2, 11, 3, 3]\n",
    "Output : [2, 2, 2, -1, -1, -1, -1, 3, -1, -1]\n",
    "```"
   ]
  },
  {
   "cell_type": "code",
   "execution_count": 1,
   "id": "50b09c35",
   "metadata": {},
   "outputs": [],
   "source": [
    "def nearestGreaterFrequency(arr):\n",
    "    frequency = {}\n",
    "    stack = []\n",
    "    result = [-1] * len(arr)\n",
    "\n",
    "    for num in arr:\n",
    "        frequency[num] = frequency.get(num, 0) + 1\n",
    "\n",
    "    for i in range(len(arr) - 1, -1, -1):\n",
    "        while stack and frequency[arr[i]] >= frequency[arr[stack[-1]]]:\n",
    "            stack.pop()\n",
    "\n",
    "        if stack:\n",
    "            result[i] = arr[stack[-1]]\n",
    "\n",
    "        stack.append(i)\n",
    "\n",
    "    return result"
   ]
  },
  {
   "cell_type": "code",
   "execution_count": 2,
   "id": "1a37c3e0",
   "metadata": {},
   "outputs": [
    {
     "name": "stdout",
     "output_type": "stream",
     "text": [
      "Output 1: [-1, -1, 1, 2, 2, 1, -1]\n",
      "Output 2: [2, 2, 2, -1, -1, -1, -1, 3, -1, -1]\n"
     ]
    }
   ],
   "source": [
    "arr1 = [1, 1, 2, 3, 4, 2, 1]\n",
    "result1 = nearestGreaterFrequency(arr1)\n",
    "print(\"Output 1:\", result1)\n",
    "\n",
    "arr2 = [1, 1, 1, 2, 2, 2, 2, 11, 3, 3]\n",
    "result2 = nearestGreaterFrequency(arr2)\n",
    "print(\"Output 2:\", result2)\n"
   ]
  },
  {
   "cell_type": "markdown",
   "id": "c8813c3e",
   "metadata": {},
   "source": [
    "**Question 2**\n",
    "\n",
    "Given a stack of integers, sort it in ascending order using another temporary stack.\n",
    "\n",
    "**Examples:**\n",
    "```\n",
    "Input : [34, 3, 31, 98, 92, 23]\n",
    "Output : [3, 23, 31, 34, 92, 98]\n",
    "\n",
    "Input : [3, 5, 1, 4, 2, 8]\n",
    "Output : [1, 2, 3, 4, 5, 8]\n",
    "```"
   ]
  },
  {
   "cell_type": "code",
   "execution_count": 3,
   "id": "acd4d901",
   "metadata": {},
   "outputs": [],
   "source": [
    "def sort_stack(input_stack):\n",
    "    temp_stack = []\n",
    "\n",
    "    while input_stack:\n",
    "        # Remove the top element from the input stack\n",
    "        temp = input_stack.pop()\n",
    "\n",
    "        # If the temp_stack is not empty and the top element is greater than temp,\n",
    "        # move it back to the input stack\n",
    "        while temp_stack and temp_stack[-1] > temp:\n",
    "            input_stack.append(temp_stack.pop())\n",
    "\n",
    "        # Push temp into the temp_stack\n",
    "        temp_stack.append(temp)\n",
    "\n",
    "    # Reverse the temp_stack to get the ascending order\n",
    "    return temp_stack\n"
   ]
  },
  {
   "cell_type": "code",
   "execution_count": 4,
   "id": "7af2d9b9",
   "metadata": {},
   "outputs": [
    {
     "name": "stdout",
     "output_type": "stream",
     "text": [
      "[3, 23, 31, 34, 92, 98]\n"
     ]
    }
   ],
   "source": [
    "stack = [34, 3, 31, 98, 92, 23]\n",
    "sorted_stack = sort_stack(stack)\n",
    "print(sorted_stack)"
   ]
  },
  {
   "cell_type": "code",
   "execution_count": 5,
   "id": "c6d4c406",
   "metadata": {},
   "outputs": [
    {
     "name": "stdout",
     "output_type": "stream",
     "text": [
      "[1, 2, 3, 4, 5, 8]\n"
     ]
    }
   ],
   "source": [
    "stack = [3, 5, 1, 4, 2, 8]\n",
    "sorted_stack = sort_stack(stack)\n",
    "print(sorted_stack)"
   ]
  },
  {
   "cell_type": "markdown",
   "id": "4c1f1691",
   "metadata": {},
   "source": [
    "**Question 3**\n",
    "\n",
    "Given a stack with **push()**, **pop()**, and **empty()** operations, The task is to delete the **middle** element ****of it without using any additional data structure.\n",
    "\n",
    "Input  : Stack[] = [1, 2, 3, 4, 5]\n",
    "\n",
    "Output : Stack[] = [1, 2, 4, 5]\n",
    "\n",
    "Input  : Stack[] = [1, 2, 3, 4, 5, 6]\n",
    "\n",
    "Output : Stack[] = [1, 2, 4, 5, 6]"
   ]
  },
  {
   "cell_type": "code",
   "execution_count": 6,
   "id": "585eaa66",
   "metadata": {},
   "outputs": [],
   "source": [
    "def delete_middle(stack):\n",
    "    n = len(stack)\n",
    "\n",
    "    def delete_helper(stack, idx):\n",
    "        if idx == (n // 2) + 1:\n",
    "            stack.pop()\n",
    "            return\n",
    "\n",
    "        temp = stack.pop()\n",
    "        delete_helper(stack, idx + 1)\n",
    "        stack.append(temp)\n",
    "\n",
    "    delete_helper(stack, 1)\n",
    "    return stack"
   ]
  },
  {
   "cell_type": "code",
   "execution_count": 7,
   "id": "452e6a7e",
   "metadata": {},
   "outputs": [
    {
     "name": "stdout",
     "output_type": "stream",
     "text": [
      "[1, 2, 4, 5]\n"
     ]
    }
   ],
   "source": [
    "stack1 = [1, 2, 3, 4, 5]\n",
    "modified_stack1 = delete_middle(stack1)\n",
    "print(modified_stack1)"
   ]
  },
  {
   "cell_type": "markdown",
   "id": "c2915adf",
   "metadata": {},
   "source": [
    "**Question 4**\n",
    "\n",
    "Given a Queue consisting of first **n** natural numbers (in random order). The task is to check whether the given Queue elements can be arranged in increasing order in another Queue using a stack. The operation allowed are:\n",
    "\n",
    "1. Push and pop elements from the stack\n",
    "2. Pop (Or Dequeue) from the given Queue.\n",
    "3. Push (Or Enqueue) in the another Queue.\n",
    "\n",
    "**Examples :**\n",
    "\n",
    "Input : Queue[] = { 5, 1, 2, 3, 4 } \n",
    "\n",
    "Output : Yes \n",
    "\n",
    "Pop the first element of the given Queue \n",
    "\n",
    "i.e 5. Push 5 into the stack. \n",
    "\n",
    "Now, pop all the elements of the given Queue and push them to second Queue. \n",
    "\n",
    "Now, pop element 5 in the stack and push it to the second Queue.   \n",
    "\n",
    "Input : Queue[] = { 5, 1, 2, 6, 3, 4 } \n",
    "\n",
    "Output : No \n",
    "\n",
    "Push 5 to stack. \n",
    "\n",
    "Pop 1, 2 from given Queue and push it to another Queue. \n",
    "\n",
    "Pop 6 from given Queue and push to stack. \n",
    "\n",
    "Pop 3, 4 from given Queue and push to second Queue. \n",
    "\n",
    "Now, from using any of above operation, we cannot push 5 into the second Queue because it is below the 6 in the stack."
   ]
  },
  {
   "cell_type": "code",
   "execution_count": 8,
   "id": "937bc3bb",
   "metadata": {},
   "outputs": [],
   "source": [
    "# Python Program to check if a queue of first\n",
    "# n natural number can be sorted using a stack\n",
    "from queue import Queue\n",
    "\n",
    "def checkSorted(n, q):\n",
    "    st = []\n",
    "    expected = 1\n",
    "    fnt = None\n",
    "    while (not q.empty()):\n",
    "        fnt = q.queue[0]\n",
    "        q.get()\n",
    "        if (fnt == expected):\n",
    "            expected += 1\n",
    "\n",
    "        else:\n",
    "            if (len(st) == 0):\n",
    "                st.append(fnt)\n",
    "            elif (len(st) != 0 and st[-1] < fnt):\n",
    "                return False\n",
    "            else:\n",
    "                st.append(fnt)\n",
    "        while (len(st) != 0 and\n",
    "                st[-1] == expected):\n",
    "            st.pop()\n",
    "            expected += 1\n",
    "    if (expected - 1 == n and len(st) == 0):\n",
    "        return True\n",
    "\n",
    "    return False"
   ]
  },
  {
   "cell_type": "code",
   "execution_count": 9,
   "id": "e8dd6168",
   "metadata": {},
   "outputs": [
    {
     "name": "stdout",
     "output_type": "stream",
     "text": [
      "Yes\n"
     ]
    }
   ],
   "source": [
    "q = Queue()\n",
    "q.put(5)\n",
    "q.put(1)\n",
    "q.put(2)\n",
    "q.put(3)\n",
    "q.put(4)\n",
    "\n",
    "n = q.qsize()\n",
    "\n",
    "if checkSorted(n, q):\n",
    "    print(\"Yes\")\n",
    "else:\n",
    "    print(\"No\")"
   ]
  },
  {
   "cell_type": "markdown",
   "id": "120170b2",
   "metadata": {},
   "source": [
    "**Question 5**\n",
    "\n",
    "Given a number , write a program to reverse this number using stack.\n",
    "\n",
    "**Examples:**\n",
    "\n",
    "Input : 365\n",
    "\n",
    "Output : 563\n",
    "\n",
    "Input : 6899\n",
    "\n",
    "Output : 9986"
   ]
  },
  {
   "cell_type": "code",
   "execution_count": 10,
   "id": "f308b02b",
   "metadata": {},
   "outputs": [],
   "source": [
    "st = [];\n",
    "\n",
    "def push_digits(number):\n",
    "\n",
    "    while (number != 0):\n",
    "        st.append(number % 10);\n",
    "        number = int(number / 10);\n",
    "def reverse_number(number):\n",
    "    push_digits(number);\n",
    "\n",
    "    reverse = 0;\n",
    "    i = 1;\n",
    "    while (len(st) > 0):\n",
    "        reverse = reverse + (st[len(st) - 1] * i);\n",
    "        st.pop();\n",
    "        i = i * 10;\n",
    "    return reverse;"
   ]
  },
  {
   "cell_type": "code",
   "execution_count": 11,
   "id": "3701cc4e",
   "metadata": {},
   "outputs": [
    {
     "name": "stdout",
     "output_type": "stream",
     "text": [
      "563\n"
     ]
    }
   ],
   "source": [
    "number = 365;\n",
    "print(reverse_number(number));"
   ]
  },
  {
   "cell_type": "markdown",
   "id": "5cd29663",
   "metadata": {},
   "source": [
    "**Question 6**\n",
    "\n",
    "Given an integer k and a **[queue](https://www.geeksforgeeks.org/queue-data-structure/)** of integers, The task is to reverse the order of the first **k** elements of the queue, leaving the other elements in the same relative order.\n",
    "\n",
    "Only following standard operations are allowed on queue.\n",
    "\n",
    "- **enqueue(x) :** Add an item x to rear of queue\n",
    "- **dequeue() :** Remove an item from front of queue\n",
    "- **size() :** Returns number of elements in queue.\n",
    "- **front() :** Finds front item."
   ]
  },
  {
   "cell_type": "code",
   "execution_count": 12,
   "id": "02c5665b",
   "metadata": {},
   "outputs": [],
   "source": [
    "from collections import deque\n",
    "\n",
    "def reverse_first_k(q, k):\n",
    "    solve(q, k)\n",
    "    s = len(q) - k\n",
    "    for _ in range(s):\n",
    "        x = q.popleft()\n",
    "        q.append(x)\n",
    "    return q\n",
    "\n",
    "def solve(q, k):\n",
    "    if k == 0:\n",
    "        return\n",
    "    e = q.popleft()\n",
    "    solve(q, k - 1)\n",
    "    q.append(e)"
   ]
  },
  {
   "cell_type": "code",
   "execution_count": 13,
   "id": "d1db28a5",
   "metadata": {},
   "outputs": [
    {
     "name": "stdout",
     "output_type": "stream",
     "text": [
      "50 40 30 20 10 60 70 80 90 100 "
     ]
    }
   ],
   "source": [
    "queue = deque([10, 20, 30, 40, 50, 60, 70, 80, 90, 100])\n",
    "k = 5\n",
    "queue = reverse_first_k(queue, k)\n",
    "\n",
    "# Printing queue\n",
    "while queue:\n",
    "    print(queue.popleft(), end=' ')"
   ]
  },
  {
   "cell_type": "markdown",
   "id": "4bb7e696",
   "metadata": {},
   "source": [
    "**Question 7**\n",
    "\n",
    "Given a sequence of n strings, the task is to check if any two similar words come together and then destroy each other then print the number of words left in the sequence after this pairwise destruction.\n",
    "\n",
    "**Examples:**\n",
    "\n",
    "Input : ab aa aa bcd ab\n",
    "\n",
    "Output : 3\n",
    "\n",
    "*As aa, aa destroys each other so,*\n",
    "\n",
    "*ab bcd ab is the new sequence.*\n",
    "\n",
    "Input :  tom jerry jerry tom\n",
    "\n",
    "Output : 0\n",
    "\n",
    "*As first both jerry will destroy each other.*\n",
    "\n",
    "*Then sequence will be tom, tom they will also destroy*\n",
    "\n",
    "*each other. So, the final sequence doesn’t contain any*\n",
    "\n",
    "*word.*"
   ]
  },
  {
   "cell_type": "code",
   "execution_count": 14,
   "id": "090f1ae9",
   "metadata": {},
   "outputs": [],
   "source": [
    "def count_remaining_words(sequence):\n",
    "    stack = []\n",
    "\n",
    "    for word in sequence:\n",
    "        if not stack or word != stack[-1]:\n",
    "            stack.append(word)\n",
    "        else:\n",
    "            stack.pop()\n",
    "\n",
    "    return len(stack)"
   ]
  },
  {
   "cell_type": "code",
   "execution_count": 15,
   "id": "bf7da1bd",
   "metadata": {},
   "outputs": [
    {
     "name": "stdout",
     "output_type": "stream",
     "text": [
      "3\n"
     ]
    }
   ],
   "source": [
    "sequence = ['ab', 'aa', 'aa', 'bcd', 'ab']\n",
    "result = count_remaining_words(sequence)\n",
    "print(result)"
   ]
  },
  {
   "cell_type": "markdown",
   "id": "6b67d189",
   "metadata": {},
   "source": [
    "**Question 8**\n",
    "\n",
    "Given an array of integers, the task is to find the maximum absolute difference between the nearest left and the right smaller element of every element in the array.\n",
    "\n",
    "**Note:** If there is no smaller element on right side or left side of any element then we take zero as the smaller element. For example for the leftmost element, the nearest smaller element on the left side is considered as 0. Similarly, for rightmost elements, the smaller element on the right side is considered as 0.\n",
    "\n",
    "**Examples:**\n",
    "```\n",
    "Input : arr[] = {2, 1, 8}\n",
    "Output : 1\n",
    "Left smaller  LS[] {0, 0, 1}\n",
    "Right smaller RS[] {1, 0, 0}\n",
    "Maximum Diff of abs(LS[i] - RS[i]) = 1\n",
    "\n",
    "Input  : arr[] = {2, 4, 8, 7, 7, 9, 3}\n",
    "Output : 4\n",
    "Left smaller   LS[] = {0, 2, 4, 4, 4, 7, 2}\n",
    "Right smaller  RS[] = {0, 3, 7, 3, 3, 3, 0}\n",
    "Maximum Diff of abs(LS[i] - RS[i]) = 7 - 3 = 4\n",
    "\n",
    "Input : arr[] = {5, 1, 9, 2, 5, 1, 7}\n",
    "Output : 1\n",
    "```"
   ]
  },
  {
   "cell_type": "code",
   "execution_count": 16,
   "id": "efc63f57",
   "metadata": {},
   "outputs": [],
   "source": [
    "def max_abs_difference(arr):\n",
    "    n = len(arr)\n",
    "    LS = [0] * n\n",
    "    RS = [0] * n\n",
    "    stack = []\n",
    "    for i in range(n):\n",
    "        while stack and stack[-1] >= arr[i]:\n",
    "            stack.pop()\n",
    "\n",
    "        if stack:\n",
    "            LS[i] = stack[-1]\n",
    "\n",
    "        stack.append(arr[i])\n",
    "\n",
    "    stack.clear()\n",
    "    for i in range(n - 1, -1, -1):\n",
    "        while stack and stack[-1] >= arr[i]:\n",
    "            stack.pop()\n",
    "\n",
    "        if stack:\n",
    "            RS[i] = stack[-1]\n",
    "\n",
    "        stack.append(arr[i])\n",
    "\n",
    "    max_diff = 0\n",
    "    for i in range(n):\n",
    "        max_diff = max(max_diff, abs(LS[i] - RS[i]))\n",
    "\n",
    "    return max_diff\n"
   ]
  },
  {
   "cell_type": "code",
   "execution_count": 17,
   "id": "82aa6d0d",
   "metadata": {},
   "outputs": [
    {
     "name": "stdout",
     "output_type": "stream",
     "text": [
      "1\n"
     ]
    }
   ],
   "source": [
    "arr = [2, 1, 8]\n",
    "result = max_abs_difference(arr)\n",
    "print(result)"
   ]
  },
  {
   "cell_type": "code",
   "execution_count": null,
   "id": "99257e37",
   "metadata": {},
   "outputs": [],
   "source": []
  }
 ],
 "metadata": {
  "kernelspec": {
   "display_name": "Python 3 (ipykernel)",
   "language": "python",
   "name": "python3"
  },
  "language_info": {
   "codemirror_mode": {
    "name": "ipython",
    "version": 3
   },
   "file_extension": ".py",
   "mimetype": "text/x-python",
   "name": "python",
   "nbconvert_exporter": "python",
   "pygments_lexer": "ipython3",
   "version": "3.9.12"
  }
 },
 "nbformat": 4,
 "nbformat_minor": 5
}
