{
 "cells": [
  {
   "cell_type": "markdown",
   "id": "2e72c00d",
   "metadata": {},
   "source": [
    "**Question-1:**\n",
    "\n",
    "Given a Binary Tree (Bt), convert it to a Doubly Linked List(DLL). The left and right pointers in nodes are to be used as previous and next pointers respectively in converted DLL. The order of nodes in DLL must be the same as in Inorder for the given Binmary Tree. The first node of Inorder traversal (leftmost node in BT) must be the head node of the DLL.\n",
    "\n",
    "Example:\n",
    "https://file.notion.so/f/s/f9dda6ae-60b9-427b-990f-dc5b3117a5e3/Untitled.png?id=f5542efd-4d64-4904-9259-23aeb80f012b&table=block&spaceId=6fae2e0f-dedc-48e9-bc59-af2654c78209&expirationTimestamp=1688097600000&signature=ehJvzB4XUw7_rAVd9l0RGxB2r1C6NFxJ8ZDDOJVZ8dY&downloadName=Untitled.png"
   ]
  },
  {
   "cell_type": "code",
   "execution_count": 1,
   "id": "451a9ab5",
   "metadata": {},
   "outputs": [],
   "source": [
    "class Node:\n",
    "    def __init__(self, value):\n",
    "        self.data = value\n",
    "        self.left = None\n",
    "        self.right = None\n",
    "\n",
    "def convert_binary_tree_to_dll(root):\n",
    "    def inorder_helper(node):\n",
    "        nonlocal prev, head\n",
    "        \n",
    "        if node is None:\n",
    "            return\n",
    "        inorder_helper(node.left)\n",
    "\n",
    "        if prev is None:\n",
    "            head = node\n",
    "        else:\n",
    "            prev.right = node\n",
    "            node.left = prev\n",
    "        prev = node\n",
    "        inorder_helper(node.right)\n",
    "    if root is None:\n",
    "        return None\n",
    "    \n",
    "    prev = None  \n",
    "    head = None  \n",
    "\n",
    "    inorder_helper(root)\n",
    "    \n",
    "    return head"
   ]
  },
  {
   "cell_type": "code",
   "execution_count": 2,
   "id": "e2ec97e7",
   "metadata": {},
   "outputs": [
    {
     "name": "stdout",
     "output_type": "stream",
     "text": [
      "25 12 30 10 36 15 "
     ]
    }
   ],
   "source": [
    "root = Node(10)\n",
    "root.left = Node(12)\n",
    "root.right = Node(15)\n",
    "root.left.left = Node(25)\n",
    "root.left.right = Node(30)\n",
    "root.right.left = Node(36)\n",
    "\n",
    "dll_head = convert_binary_tree_to_dll(root)\n",
    "\n",
    "current = dll_head\n",
    "while current is not None:\n",
    "    print(current.data, end=\" \")\n",
    "    current = current.right\n"
   ]
  },
  {
   "cell_type": "markdown",
   "id": "c23fd7dc",
   "metadata": {},
   "source": [
    "**Question-2**\n",
    "\n",
    "A Given a binary tree, the task is to flip the binary tree towards the right direction that is clockwise. See the below examples to see the transformation.\n",
    "\n",
    "In the flip operation, the leftmost node becomes the root of the flipped tree and its parent becomes its right child and the right sibling becomes its left child and the same should be done for all left most nodes recursively.\n",
    "\n",
    "**Example1:**\n",
    "\n",
    "https://file.notion.so/f/s/a5f5bbbe-8607-4f17-9ab4-b31327ffa2d0/Untitled.png?id=bf2642e8-4284-4d78-9cf8-ea00a926b238&table=block&spaceId=6fae2e0f-dedc-48e9-bc59-af2654c78209&expirationTimestamp=1688097600000&signature=UsE26oWbaH0WUlDpJxrlh4BEor190j88F5blvHEylxQ&downloadName=Untitled.png\n",
    "\n",
    "**Example2:**\n",
    "\n",
    "https://file.notion.so/f/s/063636b4-9f35-4524-b6d9-c97e30cac510/Untitled.png?id=257a6e42-4876-4a44-ac0e-07f80a570f83&table=block&spaceId=6fae2e0f-dedc-48e9-bc59-af2654c78209&expirationTimestamp=1688097600000&signature=hu3FTBAcjZRF3EjYkJbLCl-3hYMn6ipbPrTrKYVA_sc&downloadName=Untitled.png"
   ]
  },
  {
   "cell_type": "code",
   "execution_count": 3,
   "id": "9122a88c",
   "metadata": {},
   "outputs": [],
   "source": [
    "class Node:\n",
    "    # Constructor to create a new node\n",
    "    def __init__(self, data):\n",
    "        self.data = data\n",
    "        self.right = None\n",
    "        self.left = None\n",
    "\n",
    "def flipBinaryTree(root):\n",
    "    if root is None:\n",
    "        return root\n",
    "\n",
    "    if (root.left is None and root.right is None):\n",
    "        return root\n",
    "    flippedRoot = flipBinaryTree(root.left)\n",
    "    root.left.left = root.right\n",
    "    root.left.right = root\n",
    "    root.left = root.right = None\n",
    "\n",
    "    return flippedRoot\n",
    "def printLevelOrder(root):\n",
    "    # Base Case\n",
    "    if root is None:\n",
    "        return\n",
    "    from queue import Queue\n",
    "    q = Queue()\n",
    "    q.put(root)\n",
    "\n",
    "    while True:\n",
    "        nodeCount = q.qsize()\n",
    "        if nodeCount == 0:\n",
    "            break\n",
    "        while nodeCount > 0:\n",
    "            node = q.get()\n",
    "            print(node.data, end=\" \")\n",
    "            if node.left is not None:\n",
    "                q.put(node.left)\n",
    "            if node.right is not None:\n",
    "                q.put(node.right)\n",
    "            nodeCount -= 1\n",
    "\n",
    "        print()"
   ]
  },
  {
   "cell_type": "code",
   "execution_count": 4,
   "id": "a6936377",
   "metadata": {},
   "outputs": [
    {
     "name": "stdout",
     "output_type": "stream",
     "text": [
      "Level order traversal of the given tree:\n",
      "1 \n",
      "2 3 \n",
      "4 5 \n",
      "\n",
      "Level order traversal of the flipped tree:\n",
      "2 \n",
      "3 1 \n",
      "4 5 \n"
     ]
    }
   ],
   "source": [
    "root = Node(1)\n",
    "root.left = Node(2)\n",
    "root.right = Node(3)\n",
    "root.right.left = Node(4)\n",
    "root.right.right = Node(5)\n",
    "\n",
    "print(\"Level order traversal of the given tree:\")\n",
    "printLevelOrder(root)\n",
    "\n",
    "root = flipBinaryTree(root)\n",
    "\n",
    "print(\"\\nLevel order traversal of the flipped tree:\")\n",
    "printLevelOrder(root)\n"
   ]
  },
  {
   "cell_type": "markdown",
   "id": "938b0fb6",
   "metadata": {},
   "source": [
    "**Question-3:**\n",
    "\n",
    "Given a binary tree, print all its root-to-leaf paths without using recursion. For example, consider the following Binary Tree.\n",
    "\n",
    "Input:\n",
    "```\n",
    "        6\n",
    "     /    \\\n",
    "    3      5\n",
    "  /   \\     \\\n",
    " 2     5     4\n",
    "     /   \\\n",
    "    7     4\n",
    "```\n",
    "Output:\n",
    "\n",
    "There are 4 leaves, hence 4 root to leaf paths -\n",
    "\n",
    "  6->3->2\n",
    "  \n",
    "  6->3->5->7\n",
    "  \n",
    "  6->3->5->4\n",
    "  \n",
    "  6->5>4"
   ]
  },
  {
   "cell_type": "code",
   "execution_count": 5,
   "id": "60d8b820",
   "metadata": {},
   "outputs": [],
   "source": [
    "class Node:\n",
    "    def __init__(self, data):\n",
    "        self.data = data\n",
    "        self.left = None\n",
    "        self.right = None\n",
    "\n",
    "def printRootToLeafPaths(root):\n",
    "    if root is None:\n",
    "        return\n",
    "\n",
    "    stack = [(root, str(root.data))]\n",
    "\n",
    "    while stack:\n",
    "        node, path = stack.pop()\n",
    "\n",
    "        if node.left is None and node.right is None:\n",
    "            print(path)\n",
    "        \n",
    "        if node.right:\n",
    "            stack.append((node.right, path + \"->\" + str(node.right.data)))\n",
    "        if node.left:\n",
    "            stack.append((node.left, path + \"->\" + str(node.left.data)))"
   ]
  },
  {
   "cell_type": "code",
   "execution_count": 6,
   "id": "3ff063b6",
   "metadata": {},
   "outputs": [
    {
     "name": "stdout",
     "output_type": "stream",
     "text": [
      "Root-to-leaf paths:\n",
      "6->3->2\n",
      "6->3->5->7\n",
      "6->3->5->4\n",
      "6->5->4\n"
     ]
    }
   ],
   "source": [
    "root = Node(6)\n",
    "root.left = Node(3)\n",
    "root.right = Node(5)\n",
    "root.left.left = Node(2)\n",
    "root.left.right = Node(5)\n",
    "root.right.right = Node(4)\n",
    "root.left.right.left = Node(7)\n",
    "root.left.right.right = Node(4)\n",
    "\n",
    "print(\"Root-to-leaf paths:\")\n",
    "printRootToLeafPaths(root)"
   ]
  },
  {
   "cell_type": "markdown",
   "id": "00dd3f3e",
   "metadata": {},
   "source": [
    "**Question-4:**\n",
    "\n",
    "Given Preorder, Inorder and Postorder traversals of some tree. Write a program to check if they all are of the same tree.\n",
    "\n",
    "**Examples:**\n",
    "```\n",
    "Input : \n",
    "\n",
    "        Inorder -> 4 2 5 1 3\n",
    "        Preorder -> 1 2 4 5 3\n",
    "        Postorder -> 4 5 2 3 1\n",
    "Output : \n",
    "\n",
    "Yes\n",
    "Explanation : \n",
    "\n",
    "All of the above three traversals are of\n",
    "the same tree \n",
    "\n",
    "                           1\n",
    "                         /   \\\n",
    "                        2     3\n",
    "                      /   \\\n",
    "                     4     5\n",
    "\n",
    "Input : \n",
    "\n",
    "        Inorder -> 4 2 5 1 3\n",
    "        Preorder -> 1 5 4 2 3\n",
    "        Postorder -> 4 1 2 3 5\n",
    "Output : \n",
    "\n",
    "No\n",
    "```"
   ]
  },
  {
   "cell_type": "code",
   "execution_count": 7,
   "id": "51ab1e9c",
   "metadata": {},
   "outputs": [],
   "source": [
    "def checkTraversals(preorder, inorder, postorder):\n",
    "    if len(preorder) != len(inorder) or len(preorder) != len(postorder):\n",
    "        return False\n",
    "\n",
    "    if len(preorder) == 0:\n",
    "        return True\n",
    "\n",
    "    root = preorder[0]\n",
    "    root_index = inorder.index(root)\n",
    "\n",
    "    if root_index == -1:\n",
    "        return False\n",
    "\n",
    "    left_inorder = inorder[:root_index]\n",
    "    right_inorder = inorder[root_index+1:]\n",
    "\n",
    "    left_preorder = preorder[1:root_index+1]\n",
    "    right_preorder = preorder[root_index+1:]\n",
    "\n",
    "    left_postorder = postorder[:root_index]\n",
    "    right_postorder = postorder[root_index:-1]\n",
    "\n",
    "    return (\n",
    "        checkTraversals(left_preorder, left_inorder, left_postorder) and\n",
    "        checkTraversals(right_preorder, right_inorder, right_postorder)\n",
    "    )"
   ]
  },
  {
   "cell_type": "code",
   "execution_count": 8,
   "id": "a4405f87",
   "metadata": {},
   "outputs": [
    {
     "name": "stdout",
     "output_type": "stream",
     "text": [
      "Example 1:\n",
      "Yes\n"
     ]
    }
   ],
   "source": [
    "# Example 1\n",
    "inorder1 = [4, 2, 5, 1, 3]\n",
    "preorder1 = [1, 2, 4, 5, 3]\n",
    "postorder1 = [4, 5, 2, 3, 1]\n",
    "\n",
    "print(\"Example 1:\")\n",
    "if checkTraversals(preorder1, inorder1, postorder1):\n",
    "    print(\"Yes\")\n",
    "else:\n",
    "    print(\"No\")"
   ]
  },
  {
   "cell_type": "code",
   "execution_count": 9,
   "id": "050fb16f",
   "metadata": {},
   "outputs": [
    {
     "name": "stdout",
     "output_type": "stream",
     "text": [
      "Example 2:\n",
      "Yes\n"
     ]
    }
   ],
   "source": [
    "# Example 2\n",
    "inorder2 = [4, 2, 5, 1, 3]\n",
    "preorder2 = [1, 5, 4, 2, 3]\n",
    "postorder2 = [4, 1, 2, 3, 5]\n",
    "\n",
    "print(\"Example 2:\")\n",
    "if checkTraversals(preorder2, inorder2, postorder2):\n",
    "    print(\"Yes\")\n",
    "else:\n",
    "    print(\"No\")\n"
   ]
  },
  {
   "cell_type": "code",
   "execution_count": null,
   "id": "b5afeb08",
   "metadata": {},
   "outputs": [],
   "source": []
  }
 ],
 "metadata": {
  "kernelspec": {
   "display_name": "Python 3 (ipykernel)",
   "language": "python",
   "name": "python3"
  },
  "language_info": {
   "codemirror_mode": {
    "name": "ipython",
    "version": 3
   },
   "file_extension": ".py",
   "mimetype": "text/x-python",
   "name": "python",
   "nbconvert_exporter": "python",
   "pygments_lexer": "ipython3",
   "version": "3.9.12"
  }
 },
 "nbformat": 4,
 "nbformat_minor": 5
}
