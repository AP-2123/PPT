{
 "cells": [
  {
   "cell_type": "markdown",
   "id": "3dc83822",
   "metadata": {},
   "source": [
    "**Question 1**\n",
    "\n",
    "Given two strings s and t, *determine if they are isomorphic*.\n",
    "\n",
    "Two strings s and t are isomorphic if the characters in s can be replaced to get t.\n",
    "\n",
    "All occurrences of a character must be replaced with another character while preserving the order of characters. No two characters may map to the same character, but a character may map to itself.\n",
    "\n",
    "**Example 1:**\n",
    "\n",
    "**Input:** s = \"egg\", t = \"add\"\n",
    "\n",
    "**Output:** true"
   ]
  },
  {
   "cell_type": "code",
   "execution_count": 1,
   "id": "8f95f0e2",
   "metadata": {},
   "outputs": [],
   "source": [
    "# Time Complexity : O(n)\n",
    "class Solution(object):\n",
    "    def isIsomorphic(self, s, t):\n",
    "        map1 = []\n",
    "        map2 = []\n",
    "        for idx in s:\n",
    "            map1.append(s.index(idx))\n",
    "        for idx in t:\n",
    "            map2.append(t.index(idx))\n",
    "        if map1 == map2:\n",
    "            return True\n",
    "        return False"
   ]
  },
  {
   "cell_type": "code",
   "execution_count": 2,
   "id": "4b2a998b",
   "metadata": {},
   "outputs": [
    {
     "data": {
      "text/plain": [
       "True"
      ]
     },
     "execution_count": 2,
     "metadata": {},
     "output_type": "execute_result"
    }
   ],
   "source": [
    "s = \"egg\"\n",
    "t = \"add\"\n",
    "sol = Solution()\n",
    "sol.isIsomorphic(s,t)"
   ]
  },
  {
   "cell_type": "markdown",
   "id": "a7ad5c22",
   "metadata": {},
   "source": [
    "**Question 2**\n",
    "\n",
    "Given a string num which represents an integer, return true *if* num *is a **strobogrammatic number***.\n",
    "\n",
    "A **strobogrammatic number** is a number that looks the same when rotated 180 degrees (looked at upside down).\n",
    "\n",
    "**Example 1:**\n",
    "\n",
    "**Input:** num = \"69\"\n",
    "\n",
    "**Output:**\n",
    "\n",
    "true"
   ]
  },
  {
   "cell_type": "code",
   "execution_count": 3,
   "id": "7209fccd",
   "metadata": {},
   "outputs": [],
   "source": [
    "class Solution:\n",
    "    def is_strobogrammatic(self,num):\n",
    "        strobogrammatic_map = {\n",
    "            \"0\": \"0\",\n",
    "            \"1\": \"1\",\n",
    "            \"6\": \"9\",\n",
    "            \"8\": \"8\",\n",
    "            \"9\": \"6\"\n",
    "        }\n",
    "\n",
    "        left, right = 0, len(num) - 1\n",
    "\n",
    "        while left <= right:\n",
    "            if num[left] not in strobogrammatic_map or strobogrammatic_map[num[left]] != num[right]:\n",
    "                return False\n",
    "            left += 1\n",
    "            right -= 1\n",
    "\n",
    "        return True"
   ]
  },
  {
   "cell_type": "code",
   "execution_count": 4,
   "id": "412e762e",
   "metadata": {},
   "outputs": [
    {
     "data": {
      "text/plain": [
       "True"
      ]
     },
     "execution_count": 4,
     "metadata": {},
     "output_type": "execute_result"
    }
   ],
   "source": [
    "num = \"69\"\n",
    "sol = Solution()\n",
    "sol.is_strobogrammatic(num)"
   ]
  },
  {
   "cell_type": "markdown",
   "id": "8b53020a",
   "metadata": {},
   "source": [
    "**Question 3**\n",
    "\n",
    "Given two non-negative integers, num1 and num2 represented as string, return *the sum of* num1 *and* num2 *as a string*.\n",
    "\n",
    "You must solve the problem without using any built-in library for handling large integers (such as BigInteger). You must also not convert the inputs to integers directly.\n",
    "\n",
    "**Example 1:**\n",
    "\n",
    "**Input:** num1 = \"11\", num2 = \"123\"\n",
    "\n",
    "**Output:**\n",
    "\n",
    "\"134\""
   ]
  },
  {
   "cell_type": "code",
   "execution_count": 5,
   "id": "d2a6f2ff",
   "metadata": {},
   "outputs": [],
   "source": [
    " class Solution:\n",
    "        def addStrings(self,num1, num2):\n",
    "            i, j = len(num1) - 1, len(num2) - 1\n",
    "            carry = 0\n",
    "            result = \"\"\n",
    "\n",
    "            while i >= 0 or j >= 0:\n",
    "                digit1 = int(num1[i]) if i >= 0 else 0\n",
    "                digit2 = int(num2[j]) if j >= 0 else 0\n",
    "\n",
    "                # Calculate sum with carry\n",
    "                total = digit1 + digit2 + carry\n",
    "\n",
    "                # Update carry and result string\n",
    "                carry = total // 10\n",
    "                result = str(total % 10) + result\n",
    "\n",
    "                # Move to the previous indices\n",
    "                i -= 1\n",
    "                j -= 1\n",
    "\n",
    "            if carry > 0:\n",
    "                result = str(carry) + result\n",
    "\n",
    "            return result"
   ]
  },
  {
   "cell_type": "code",
   "execution_count": 6,
   "id": "189953a8",
   "metadata": {},
   "outputs": [
    {
     "data": {
      "text/plain": [
       "'134'"
      ]
     },
     "execution_count": 6,
     "metadata": {},
     "output_type": "execute_result"
    }
   ],
   "source": [
    "num1 = \"11\"\n",
    "num2 = \"123\"\n",
    "sol = Solution()\n",
    "sol.addStrings(num1,num2)"
   ]
  },
  {
   "cell_type": "markdown",
   "id": "7beb98bb",
   "metadata": {},
   "source": [
    "**Question 4**\n",
    "\n",
    "Given a string s, reverse the order of characters in each word within a sentence while still preserving whitespace and initial word order.\n",
    "\n",
    "**Example 1:**\n",
    "\n",
    "**Input:** s = \"Let's take LeetCode contest\"\n",
    "\n",
    "**Output:** \"s'teL ekat edoCteeL tsetnoc\""
   ]
  },
  {
   "cell_type": "code",
   "execution_count": 7,
   "id": "e4c10b50",
   "metadata": {},
   "outputs": [],
   "source": [
    "class Solution:\n",
    "    def reverseWords(self,s):\n",
    "        words = s.split()\n",
    "        reversed_words = [word[::-1] for word in words]\n",
    "        reversed_string = ' '.join(reversed_words)\n",
    "        return reversed_string"
   ]
  },
  {
   "cell_type": "code",
   "execution_count": 8,
   "id": "6a60b86d",
   "metadata": {},
   "outputs": [
    {
     "data": {
      "text/plain": [
       "\"s'teL ekat edoCteeL tsetnoc\""
      ]
     },
     "execution_count": 8,
     "metadata": {},
     "output_type": "execute_result"
    }
   ],
   "source": [
    "s = \"Let's take LeetCode contest\"\n",
    "sol = Solution()\n",
    "sol.reverseWords(s)"
   ]
  },
  {
   "cell_type": "markdown",
   "id": "1d58cbe7",
   "metadata": {},
   "source": [
    "**Question 5**\n",
    "\n",
    "Given a string s and an integer k, reverse the first k characters for every 2k characters counting from the start of the string.\n",
    "\n",
    "If there are fewer than k characters left, reverse all of them. If there are less than 2k but greater than or equal to k characters, then reverse the first k characters and leave the other as original.\n",
    "\n",
    "**Example 1:**\n",
    "\n",
    "**Input:** s = \"abcdefg\", k = 2\n",
    "\n",
    "**Output:**\n",
    "\n",
    "\"bacdfeg\""
   ]
  },
  {
   "cell_type": "code",
   "execution_count": 9,
   "id": "314741c4",
   "metadata": {},
   "outputs": [],
   "source": [
    "class Solution():\n",
    "    def reverseStr(self,s, k):\n",
    "        chars = list(s)\n",
    "        n = len(chars)\n",
    "\n",
    "        for i in range(0, n, 2 * k):\n",
    "            left = i\n",
    "            right = min(i + k - 1, n - 1)\n",
    "\n",
    "            while left < right:\n",
    "                chars[left], chars[right] = chars[right], chars[left]\n",
    "                left += 1\n",
    "                right -= 1\n",
    "\n",
    "        return ''.join(chars)\n"
   ]
  },
  {
   "cell_type": "code",
   "execution_count": 10,
   "id": "2d3fdcda",
   "metadata": {},
   "outputs": [
    {
     "data": {
      "text/plain": [
       "'bacdfeg'"
      ]
     },
     "execution_count": 10,
     "metadata": {},
     "output_type": "execute_result"
    }
   ],
   "source": [
    "s = \"abcdefg\"\n",
    "k = 2\n",
    "sol = Solution()\n",
    "sol.reverseStr(s,k)"
   ]
  },
  {
   "cell_type": "markdown",
   "id": "df6b7f57",
   "metadata": {},
   "source": [
    "**Question 6**\n",
    "\n",
    "Given two strings s and goal, return true *if and only if* s *can become* goal *after some number of **shifts** on* s.\n",
    "\n",
    "A **shift** on s consists of moving the leftmost character of s to the rightmost position.\n",
    "\n",
    "- For example, if s = \"abcde\", then it will be \"bcdea\" after one shift.\n",
    "\n",
    "**Example 1:**\n",
    "\n",
    "**Input:** s = \"abcde\", goal = \"cdeab\"\n",
    "\n",
    "**Output:**\n",
    "\n",
    "true"
   ]
  },
  {
   "cell_type": "code",
   "execution_count": 11,
   "id": "5d3c074b",
   "metadata": {},
   "outputs": [],
   "source": [
    "class Solution:\n",
    "    def rotateString(self,s, goal):\n",
    "        if len(s) != len(goal):\n",
    "            return False\n",
    "\n",
    "        double_s = s + s\n",
    "\n",
    "        if goal in double_s:\n",
    "            return True\n",
    "        else:\n",
    "            return False"
   ]
  },
  {
   "cell_type": "code",
   "execution_count": 12,
   "id": "a07ab0ca",
   "metadata": {},
   "outputs": [
    {
     "data": {
      "text/plain": [
       "True"
      ]
     },
     "execution_count": 12,
     "metadata": {},
     "output_type": "execute_result"
    }
   ],
   "source": [
    "s = \"abcde\"\n",
    "goal = \"cdeab\"\n",
    "sol = Solution()\n",
    "sol.rotateString(s,goal)"
   ]
  },
  {
   "cell_type": "markdown",
   "id": "353d5848",
   "metadata": {},
   "source": [
    "**Question 7**\n",
    "\n",
    "Given two strings s and t, return true *if they are equal when both are typed into empty text editors*. '#' means a backspace character.\n",
    "\n",
    "Note that after backspacing an empty text, the text will continue empty.\n",
    "\n",
    "**Example 1:**\n",
    "\n",
    "**Input:** s = \"ab#c\", t = \"ad#c\"\n",
    "\n",
    "**Output:** true\n",
    "\n",
    "**Explanation:**\n",
    "\n",
    "Both s and t become \"ac\"."
   ]
  },
  {
   "cell_type": "code",
   "execution_count": 13,
   "id": "b32d7eed",
   "metadata": {},
   "outputs": [],
   "source": [
    "class Solution:\n",
    "    def backspaceCompare(self,s, t):\n",
    "        stack_s = []\n",
    "        stack_t = []\n",
    "\n",
    "        for char in s:\n",
    "            if char != '#':\n",
    "                stack_s.append(char)\n",
    "            elif stack_s:\n",
    "                stack_s.pop()\n",
    "\n",
    "        for char in t:\n",
    "            if char != '#':\n",
    "                stack_t.append(char)\n",
    "            elif stack_t:\n",
    "                stack_t.pop()\n",
    "\n",
    "        return stack_s == stack_t"
   ]
  },
  {
   "cell_type": "code",
   "execution_count": 14,
   "id": "ae6ebc10",
   "metadata": {},
   "outputs": [
    {
     "data": {
      "text/plain": [
       "True"
      ]
     },
     "execution_count": 14,
     "metadata": {},
     "output_type": "execute_result"
    }
   ],
   "source": [
    "s = \"ab#c\"\n",
    "t = \"ad#c\"\n",
    "sol = Solution()\n",
    "sol.backspaceCompare(s,t)"
   ]
  },
  {
   "cell_type": "markdown",
   "id": "44e7fadf",
   "metadata": {},
   "source": [
    "**Question 8**\n",
    "\n",
    "You are given an array coordinates, coordinates[i] = [x, y], where [x, y] represents the coordinate of a point. Check if these points make a straight line in the XY plane.\n",
    "\n",
    "**Example 1:**\n",
    "**Input:** coordinates = [[1,2],[2,3],[3,4],[4,5],[5,6],[6,7]]\n",
    "\n",
    "**Output:** true"
   ]
  },
  {
   "cell_type": "code",
   "execution_count": 15,
   "id": "edf5d516",
   "metadata": {},
   "outputs": [],
   "source": [
    "class Solution:\n",
    "    def checkStraightLine(self,coordinates):\n",
    "        if len(coordinates) <= 2:\n",
    "            return True\n",
    "\n",
    "        x1, y1 = coordinates[0]\n",
    "        x2, y2 = coordinates[1]\n",
    "\n",
    "        # Calculate the initial slope\n",
    "        if x2 - x1 != 0:\n",
    "            slope = (y2 - y1) / (x2 - x1)\n",
    "        else:\n",
    "            slope = float('inf')\n",
    "\n",
    "        # Check the remaining points\n",
    "        for i in range(2, len(coordinates)):\n",
    "            xi, yi = coordinates[i]\n",
    "\n",
    "            # Calculate the slope between the current point and the first point\n",
    "            if xi - x1 != 0:\n",
    "                current_slope = (yi - y1) / (xi - x1)\n",
    "            else:\n",
    "                current_slope = float('inf')\n",
    "\n",
    "            # Check if the slopes are equal\n",
    "            if current_slope != slope:\n",
    "                return False\n",
    "\n",
    "        return True"
   ]
  },
  {
   "cell_type": "code",
   "execution_count": 16,
   "id": "4d1d6ab8",
   "metadata": {},
   "outputs": [
    {
     "data": {
      "text/plain": [
       "True"
      ]
     },
     "execution_count": 16,
     "metadata": {},
     "output_type": "execute_result"
    }
   ],
   "source": [
    "coordinates = [[1,2],[2,3],[3,4],[4,5],[5,6],[6,7]]\n",
    "sol = Solution()\n",
    "sol.checkStraightLine(coordinates)"
   ]
  },
  {
   "cell_type": "code",
   "execution_count": null,
   "id": "7df3ce6c",
   "metadata": {},
   "outputs": [],
   "source": []
  }
 ],
 "metadata": {
  "kernelspec": {
   "display_name": "Python 3 (ipykernel)",
   "language": "python",
   "name": "python3"
  },
  "language_info": {
   "codemirror_mode": {
    "name": "ipython",
    "version": 3
   },
   "file_extension": ".py",
   "mimetype": "text/x-python",
   "name": "python",
   "nbconvert_exporter": "python",
   "pygments_lexer": "ipython3",
   "version": "3.10.9"
  }
 },
 "nbformat": 4,
 "nbformat_minor": 5
}
