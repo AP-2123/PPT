{
 "cells": [
  {
   "cell_type": "markdown",
   "id": "70349102",
   "metadata": {},
   "source": [
    "**Question-1**\n",
    "\n",
    "Given a binary tree, your task is to find subtree with maximum sum in tree.\n",
    "\n",
    "Examples:\n",
    "```\n",
    "Input1 :       \n",
    "\n",
    "       1\n",
    "\n",
    "     /   \\\n",
    "\n",
    "   2      3\n",
    "\n",
    "  / \\    / \\\n",
    "\n",
    "4   5  6   7\n",
    "\n",
    "Output1 : 28\n",
    "\n",
    "As all the tree elements are positive, the largest subtree sum is equal to sum of all tree elements.\n",
    "\n",
    "Input2 :\n",
    "\n",
    "       1\n",
    "\n",
    "     /    \\\n",
    "\n",
    "  -2      3\n",
    "\n",
    "  / \\    /  \\\n",
    "\n",
    "4   5  -6   2\n",
    "\n",
    "Output2 : 7\n",
    "\n",
    "Subtree with largest sum is :\n",
    "\n",
    " -2\n",
    "\n",
    " / \\\n",
    "\n",
    "4   5\n",
    "\n",
    "Also, entire tree sum is also 7.\n",
    "\n",
    "```"
   ]
  },
  {
   "cell_type": "code",
   "execution_count": 7,
   "id": "d6a343ff",
   "metadata": {},
   "outputs": [],
   "source": [
    "class newNode:\n",
    "    def __init__(self, key):\n",
    "        self.key = key\n",
    "        self.left = self.right = None\n",
    "        \n",
    "def findLargestSubtreeSumUtil(root, ans):\n",
    "    if (root == None):\n",
    "        return 0\n",
    "    currSum = (root.key +\n",
    "            findLargestSubtreeSumUtil(root.left, ans) +\n",
    "            findLargestSubtreeSumUtil(root.right, ans))\n",
    "    ans[0] = max(ans[0], currSum)\n",
    "    return currSum\n",
    "\n",
    "def findLargestSubtreeSum(root):\n",
    "    if (root == None):\t\n",
    "        return 0\n",
    "    ans = [-999999999999]\n",
    "    findLargestSubtreeSumUtil(root, ans)\n",
    "\n",
    "    return ans[0]"
   ]
  },
  {
   "cell_type": "code",
   "execution_count": 11,
   "id": "3a1fb13a",
   "metadata": {},
   "outputs": [
    {
     "name": "stdout",
     "output_type": "stream",
     "text": [
      "28\n"
     ]
    }
   ],
   "source": [
    "#Example-1\n",
    "root = newNode(1)\n",
    "root.left = newNode(2)\n",
    "root.right = newNode(3)\n",
    "root.left.left = newNode(4)\n",
    "root.left.right = newNode(5)\n",
    "root.right.left = newNode(6)\n",
    "root.right.right = newNode(7)\n",
    "\n",
    "print(findLargestSubtreeSum(root))"
   ]
  },
  {
   "cell_type": "code",
   "execution_count": 12,
   "id": "2a48ceab",
   "metadata": {},
   "outputs": [
    {
     "name": "stdout",
     "output_type": "stream",
     "text": [
      "7\n"
     ]
    }
   ],
   "source": [
    "#Example-2\n",
    "root = newNode(1)\n",
    "root.left = newNode(-2)\n",
    "root.right = newNode(3)\n",
    "root.left.left = newNode(4)\n",
    "root.left.right = newNode(5)\n",
    "root.right.left = newNode(-6)\n",
    "root.right.right = newNode(2)\n",
    "\n",
    "print(findLargestSubtreeSum(root))"
   ]
  },
  {
   "cell_type": "markdown",
   "id": "38edb236",
   "metadata": {},
   "source": [
    "**Question-2**\n",
    "\n",
    "Construct the BST (Binary Search Tree) from its given level order traversal.\n",
    "\n",
    "Example:\n",
    "\n",
    "Input: arr[] = {7, 4, 12, 3, 6, 8, 1, 5, 10}\n",
    "\n",
    "Output: BST:\n",
    "```\n",
    "            7\n",
    "\n",
    "         /    \\\n",
    "\n",
    "       4     12\n",
    "\n",
    "     /  \\     /\n",
    "\n",
    "    3   6  8\n",
    "\n",
    "   /    /     \\\n",
    "\n",
    " 1    5      10\n",
    "```"
   ]
  },
  {
   "cell_type": "code",
   "execution_count": 14,
   "id": "4b16a169",
   "metadata": {},
   "outputs": [],
   "source": [
    "class TreeNode:\n",
    "    def __init__(self, val):\n",
    "        self.val = val\n",
    "        self.left = None\n",
    "        self.right = None\n",
    "\n",
    "def insertNode(root, val):\n",
    "    if root is None:\n",
    "        return TreeNode(val)\n",
    "\n",
    "    if val < root.val:\n",
    "        root.left = insertNode(root.left, val)\n",
    "    else:\n",
    "        root.right = insertNode(root.right, val)\n",
    "\n",
    "    return root\n",
    "\n",
    "def constructBST(level_order):\n",
    "    if not level_order:\n",
    "        return None\n",
    "\n",
    "    root = None\n",
    "    for val in level_order:\n",
    "        root = insertNode(root, val)\n",
    "\n",
    "    return root\n",
    "\n",
    "def inorderTraversal(root):\n",
    "    if root is None:\n",
    "        return\n",
    "\n",
    "    inorderTraversal(root.left)\n",
    "    print(root.val, end=\" \")\n",
    "    inorderTraversal(root.right)"
   ]
  },
  {
   "cell_type": "code",
   "execution_count": 16,
   "id": "e852bd6d",
   "metadata": {},
   "outputs": [
    {
     "name": "stdout",
     "output_type": "stream",
     "text": [
      "BST:\n",
      "1 3 4 5 6 7 8 10 12 "
     ]
    }
   ],
   "source": [
    "# Example:\n",
    "\n",
    "arr = [7, 4, 12, 3, 6, 8, 1, 5, 10]\n",
    "root = constructBST(arr)\n",
    "\n",
    "print(\"BST:\")\n",
    "inorderTraversal(root)\n"
   ]
  },
  {
   "cell_type": "markdown",
   "id": "28ad4197",
   "metadata": {},
   "source": [
    "**Question-3**\n",
    "\n",
    "Given an array of size n. The problem is to check whether the given array can represent the level order traversal of a Binary Search Tree or not.\n",
    "\n",
    "Examples:\n",
    "\n",
    "Input1 : arr[] = {7, 4, 12, 3, 6, 8, 1, 5, 10}\n",
    "\n",
    "Output1 : Yes\n",
    "\n",
    "For the given arr[], the Binary Search Tree is:\n",
    "```\n",
    "            7\n",
    "\n",
    "         /    \\\n",
    "\n",
    "       4     12\n",
    "\n",
    "     /  \\     /\n",
    "\n",
    "    3   6  8\n",
    "\n",
    "   /    /     \\\n",
    "\n",
    " 1    5      10\n",
    "```\n",
    "Input2 : arr[] = {11, 6, 13, 5, 12, 10}\n",
    "\n",
    "Output2 : No\n",
    "\n",
    "The given arr[] does not represent the level order traversal of a BST.\n",
    "\n",
    "</aside>"
   ]
  },
  {
   "cell_type": "code",
   "execution_count": 17,
   "id": "24c1b410",
   "metadata": {},
   "outputs": [],
   "source": [
    "INT_MIN, INT_MAX = float('-inf'), float('inf')\n",
    "class NodeDetails:\n",
    "\n",
    "    def __init__(self, data, min, max):\n",
    "        self.data = data\n",
    "        self.min = min\n",
    "        self.max = max\n",
    "        \n",
    "def levelOrderIsOfBST(arr, n):\n",
    "    if n == 0:\n",
    "        return True\n",
    "    q = []\n",
    "    i = 0\n",
    "    newNode = NodeDetails(arr[i], INT_MIN, INT_MAX)\n",
    "    i += 1\n",
    "    q.append(newNode)\n",
    "    while i != n and len(q) != 0:\n",
    "        temp = q.pop(0)\n",
    "        if i < n and (arr[i] < temp.data and\n",
    "                    arr[i] > temp.min):\n",
    "            newNode = NodeDetails(arr[i], temp.min, temp.data)\n",
    "            i += 1\n",
    "            q.append(newNode)\n",
    "        if i < n and (arr[i] > temp.data and\n",
    "                    arr[i] < temp.max):\n",
    "            newNode = NodeDetails(arr[i], temp.data, temp.max)\n",
    "            i += 1\n",
    "            q.append(newNode)\n",
    "    if i == n:\n",
    "        return True\n",
    "    return False"
   ]
  },
  {
   "cell_type": "code",
   "execution_count": 19,
   "id": "f863abc3",
   "metadata": {},
   "outputs": [
    {
     "name": "stdout",
     "output_type": "stream",
     "text": [
      "Yes\n"
     ]
    }
   ],
   "source": [
    "arr = [7, 4, 12, 3, 6, 8, 1, 5, 10]\n",
    "n = len(arr)\t\n",
    "if levelOrderIsOfBST(arr, n):\n",
    "    print(\"Yes\")\n",
    "else:\n",
    "    print(\"No\")"
   ]
  },
  {
   "cell_type": "code",
   "execution_count": null,
   "id": "09cc9979",
   "metadata": {},
   "outputs": [],
   "source": []
  }
 ],
 "metadata": {
  "kernelspec": {
   "display_name": "Python 3 (ipykernel)",
   "language": "python",
   "name": "python3"
  },
  "language_info": {
   "codemirror_mode": {
    "name": "ipython",
    "version": 3
   },
   "file_extension": ".py",
   "mimetype": "text/x-python",
   "name": "python",
   "nbconvert_exporter": "python",
   "pygments_lexer": "ipython3",
   "version": "3.9.12"
  }
 },
 "nbformat": 4,
 "nbformat_minor": 5
}
