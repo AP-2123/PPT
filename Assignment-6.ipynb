{
 "cells": [
  {
   "cell_type": "markdown",
   "id": "ee7d9931",
   "metadata": {},
   "source": [
    "**Question 1**\n",
    "\n",
    "A permutation perm of n + 1 integers of all the integers in the range [0, n] can be represented as a string s of length n where:\n",
    "\n",
    "- s[i] == 'I' if perm[i] < perm[i + 1], and\n",
    "- s[i] == 'D' if perm[i] > perm[i + 1].\n",
    "\n",
    "Given a string s, reconstruct the permutation perm and return it. If there are multiple valid permutations perm, return **any of them**.\n",
    "\n",
    "**Example 1:**\n",
    "\n",
    "**Input:** s = \"IDID\"\n",
    "\n",
    "**Output:**\n",
    "\n",
    "[0,4,1,3,2]"
   ]
  },
  {
   "cell_type": "code",
   "execution_count": 1,
   "id": "277c26dd",
   "metadata": {},
   "outputs": [],
   "source": [
    "class Solution:\n",
    "    def reconstruct_permutation(self,s):\n",
    "        perm = []\n",
    "        increase, decrease = 0, len(s)\n",
    "\n",
    "        for ch in s:\n",
    "            if ch == 'I':\n",
    "                perm.append(increase)\n",
    "                increase += 1\n",
    "            elif ch == 'D':\n",
    "                perm.append(decrease)\n",
    "                decrease -= 1\n",
    "\n",
    "        perm.append(increase)\n",
    "\n",
    "        return perm\n"
   ]
  },
  {
   "cell_type": "code",
   "execution_count": 2,
   "id": "cd1da3a2",
   "metadata": {},
   "outputs": [
    {
     "data": {
      "text/plain": [
       "[0, 4, 1, 3, 2]"
      ]
     },
     "execution_count": 2,
     "metadata": {},
     "output_type": "execute_result"
    }
   ],
   "source": [
    "s = \"IDID\"\n",
    "sol = Solution()\n",
    "sol.reconstruct_permutation(s)"
   ]
  },
  {
   "cell_type": "markdown",
   "id": "09b24756",
   "metadata": {},
   "source": [
    "**Question 2-**\n",
    "You are given an m x n integer matrix matrix with the following two properties:\n",
    "\n",
    "- Each row is sorted in non-decreasing order.\n",
    "- The first integer of each row is greater than the last integer of the previous row.\n",
    "\n",
    "Given an integer target, return true *if* target *is in* matrix *or* false *otherwise*.\n",
    "\n",
    "You must write a solution in O(log(m * n)) time complexity.\n",
    "\n",
    "**Input:** matrix = [[1,3,5,7],[10,11,16,20],[23,30,34,60]], target = 3\n",
    "\n",
    "**Output:** true"
   ]
  },
  {
   "cell_type": "code",
   "execution_count": 3,
   "id": "2cd0d217",
   "metadata": {},
   "outputs": [],
   "source": [
    "from typing import List\n",
    "class Solution:\n",
    "    def searchMatrix(self, matrix: List[List[int]], target: int) -> bool:\n",
    "        R, C = len(matrix), len(matrix[0])\n",
    "        l, r = 0, R*C-1\n",
    "\n",
    "        while l <= r:\n",
    "            mid = l + (r-l)//2\n",
    "            row, col = mid // C, mid % C\n",
    "            if matrix[row][col] < target:\n",
    "                l = mid + 1\n",
    "            elif matrix[row][col] > target:\n",
    "                r = mid - 1\n",
    "            else:\n",
    "                return True\n",
    "\n",
    "        return False"
   ]
  },
  {
   "cell_type": "code",
   "execution_count": 4,
   "id": "fd694aa7",
   "metadata": {},
   "outputs": [
    {
     "data": {
      "text/plain": [
       "True"
      ]
     },
     "execution_count": 4,
     "metadata": {},
     "output_type": "execute_result"
    }
   ],
   "source": [
    "matrix = [[1,3,5,7],[10,11,16,20],[23,30,34,60]]\n",
    "target = 3\n",
    "\n",
    "sol = Solution()\n",
    "sol.searchMatrix(matrix, target)"
   ]
  },
  {
   "cell_type": "markdown",
   "id": "28ce6073",
   "metadata": {},
   "source": [
    "**Question 3**\n",
    "\n",
    "Given an array of integers arr, return *true if and only if it is a valid mountain array*.\n",
    "\n",
    "Recall that arr is a mountain array if and only if:\n",
    "\n",
    "- arr.length >= 3\n",
    "- There exists some i with 0 < i < arr.length - 1 such that:\n",
    "    - arr[0] < arr[1] < ... < arr[i - 1] < arr[i]\n",
    "    - arr[i] > arr[i + 1] > ... > arr[arr.length - 1]\n",
    "**Example 1:**\n",
    "\n",
    "**Input:** arr = [2,1]\n",
    "\n",
    "**Output:**\n",
    "\n",
    "false"
   ]
  },
  {
   "cell_type": "code",
   "execution_count": 5,
   "id": "ec7f4982",
   "metadata": {},
   "outputs": [],
   "source": [
    "class Solution:\n",
    "    def validMountainArray(self, arr: List[int]) -> bool:\n",
    "        if len(arr) < 3: return False;\n",
    "        l = 0;\n",
    "        r = len(arr) - 1\n",
    "        while l + 1 < len(arr) - 1 and arr[l] < arr[l + 1]: \n",
    "            l += 1\n",
    "        while r - 1 > 0 and arr[r] < arr[r - 1]: \n",
    "            r -= 1\n",
    "        return l == r"
   ]
  },
  {
   "cell_type": "code",
   "execution_count": 6,
   "id": "9974580d",
   "metadata": {},
   "outputs": [
    {
     "data": {
      "text/plain": [
       "False"
      ]
     },
     "execution_count": 6,
     "metadata": {},
     "output_type": "execute_result"
    }
   ],
   "source": [
    "arr = [2,1]\n",
    "sol = Solution()\n",
    "sol.validMountainArray(arr)"
   ]
  },
  {
   "cell_type": "markdown",
   "id": "2b3d868e",
   "metadata": {},
   "source": [
    "**Question 4**\n",
    "\n",
    "Given a binary array nums, return *the maximum length of a contiguous subarray with an equal number of* 0 *and* 1.\n",
    "\n",
    "**Example 1:**\n",
    "\n",
    "**Input:** nums = [0,1]\n",
    "\n",
    "**Output:** 2\n",
    "\n",
    "**Explanation:**\n",
    "\n",
    "[0, 1] is the longest contiguous subarray with an equal number of 0 and 1."
   ]
  },
  {
   "cell_type": "code",
   "execution_count": 7,
   "id": "5e142d70",
   "metadata": {},
   "outputs": [],
   "source": [
    "class Solution:\n",
    "    def findMaxLength(self, nums: List[int]) -> int:\n",
    "        max_length =0\n",
    "        hash={}\n",
    "        count=0\n",
    "        for i in range(len(nums)):\n",
    "            current=nums[i]\n",
    "            if current==0:\n",
    "                count-=1 # decrement our count if our current element is 0\n",
    "            else:\n",
    "                # increment our count if current element is 1\n",
    "                count+=1\n",
    "\n",
    "            if count==0:\n",
    "                # if count is 0, we have a new subarray with length+1\n",
    "                max_length=i+1\n",
    "            if count in hash:\n",
    "                max_length=max(max_length,i-hash[count]) \n",
    "            else:\n",
    "                hash[count]=i\n",
    "        return max_length"
   ]
  },
  {
   "cell_type": "code",
   "execution_count": 8,
   "id": "9d058903",
   "metadata": {},
   "outputs": [
    {
     "data": {
      "text/plain": [
       "2"
      ]
     },
     "execution_count": 8,
     "metadata": {},
     "output_type": "execute_result"
    }
   ],
   "source": [
    "nums = [0,1]\n",
    "sol  = Solution()\n",
    "sol.findMaxLength(nums)"
   ]
  },
  {
   "cell_type": "markdown",
   "id": "dccc3c32",
   "metadata": {},
   "source": [
    "**Question 5**\n",
    "\n",
    "The **product sum** of two equal-length arrays a and b is equal to the sum of a[i] * b[i] for all 0 <= i < a.length (**0-indexed**).\n",
    "\n",
    "- For example, if a = [1,2,3,4] and b = [5,2,3,1], the **product sum** would be 1*5 + 2*2 + 3*3 + 4*1 = 22.\n",
    "\n",
    "Given two arrays nums1 and nums2 of length n, return *the **minimum product sum** if you are allowed to **rearrange** the **order** of the elements in* nums1.\n",
    "\n",
    "**Example 1:**\n",
    "\n",
    "**Input:** nums1 = [5,3,4,2], nums2 = [4,2,2,5]\n",
    "\n",
    "**Output:** 40\n",
    "\n",
    "**Explanation:**\n",
    "\n",
    "We can rearrange nums1 to become [3,5,4,2]. The product sum of [3,5,4,2] and [4,2,2,5] is 3*4 + 5*2 + 4*2 + 2*5 = 40."
   ]
  },
  {
   "cell_type": "code",
   "execution_count": 9,
   "id": "6baeb707",
   "metadata": {},
   "outputs": [],
   "source": [
    "class Solution:\n",
    "    def min_product_sum(self,nums1, nums2):\n",
    "        nums1.sort()\n",
    "        nums2.sort(reverse=True)\n",
    "\n",
    "        min_product_sum = sum(nums1[i] * nums2[i] for i in range(len(nums1)))\n",
    "\n",
    "        return min_product_sum"
   ]
  },
  {
   "cell_type": "code",
   "execution_count": 10,
   "id": "fd65802e",
   "metadata": {},
   "outputs": [
    {
     "data": {
      "text/plain": [
       "40"
      ]
     },
     "execution_count": 10,
     "metadata": {},
     "output_type": "execute_result"
    }
   ],
   "source": [
    "nums1 = [5, 3, 4, 2]\n",
    "nums2 = [4, 2, 2, 5]\n",
    "\n",
    "sol = Solution()\n",
    "sol.min_product_sum(nums1, nums2)\n"
   ]
  },
  {
   "cell_type": "markdown",
   "id": "e354b567",
   "metadata": {},
   "source": [
    "**Question 6**\n",
    "\n",
    "An integer array original is transformed into a **doubled** array changed by appending **twice the value** of every element in original, and then randomly **shuffling** the resulting array.\n",
    "\n",
    "Given an array changed, return original *if* changed *is a **doubled** array. If* changed *is not a **doubled** array, return an empty array. The elements in* original *may be returned in **any** order*.\n",
    "\n",
    "**Example 1:**\n",
    "\n",
    "**Input:** changed = [1,3,4,2,6,8]\n",
    "\n",
    "**Output:** [1,3,4]\n",
    "\n",
    "**Explanation:** One possible original array could be [1,3,4]:\n",
    "\n",
    "- Twice the value of 1 is 1 * 2 = 2.\n",
    "- Twice the value of 3 is 3 * 2 = 6.\n",
    "- Twice the value of 4 is 4 * 2 = 8.\n",
    "\n",
    "Other original arrays could be [4,3,1] or [3,1,4]."
   ]
  },
  {
   "cell_type": "code",
   "execution_count": 11,
   "id": "cfc229a3",
   "metadata": {},
   "outputs": [],
   "source": [
    "from collections import Counter\n",
    "class Solution:\n",
    "    def findOriginalArray(self, changed: List[int]) -> List[int]:\n",
    "        c = Counter(changed)\n",
    "\n",
    "        zeros, m = divmod(c[0], 2)\n",
    "        if m: return []\n",
    "        ans = [0]*zeros   \n",
    "\n",
    "        for n in sorted(c.keys()):\n",
    "            if c[n] > c[2*n]: return []\n",
    "            c[2*n]-= c[n]\n",
    "            ans.extend([n]*c[n])\n",
    "\n",
    "        return ans\n"
   ]
  },
  {
   "cell_type": "code",
   "execution_count": 12,
   "id": "c06aa24e",
   "metadata": {},
   "outputs": [
    {
     "data": {
      "text/plain": [
       "[1, 3, 4]"
      ]
     },
     "execution_count": 12,
     "metadata": {},
     "output_type": "execute_result"
    }
   ],
   "source": [
    "changed = [1,3,4,2,6,8]\n",
    "sol = Solution()\n",
    "sol.findOriginalArray(changed)"
   ]
  },
  {
   "cell_type": "markdown",
   "id": "065234fe",
   "metadata": {},
   "source": [
    "**Question 7**\n",
    "\n",
    "Given a positive integer n, generate an n x n matrix filled with elements from 1 to n2 in spiral order.\n",
    "\n",
    "**Example 1:**\n",
    "\n",
    "**Input:** n = 3\n",
    "\n",
    "**Output:** [[1,2,3],[8,9,4],[7,6,5]]"
   ]
  },
  {
   "cell_type": "code",
   "execution_count": 13,
   "id": "085ce335",
   "metadata": {},
   "outputs": [],
   "source": [
    "class Solution:\n",
    "    def generateMatrix(self,n: int) -> List[List[int]]:\n",
    "        matrix = [[0] * n for _ in range(n)]\n",
    "        num = 1\n",
    "        row = 0\n",
    "        col = 0\n",
    "        direction = 0\n",
    "        dr = [0, 1, 0, -1]\n",
    "        dc = [1, 0, -1, 0]\n",
    "        while num <= n * n:\n",
    "            matrix[row][col] = num\n",
    "            num += 1\n",
    "            nextRow = row + dr[direction]\n",
    "            nextCol = col + dc[direction]\n",
    "            if nextRow < 0 or nextRow >= n or nextCol < 0 or nextCol >= n or matrix[nextRow][nextCol] != 0:\n",
    "                direction = (direction + 1) % 4\n",
    "            row += dr[direction]\n",
    "            col += dc[direction]\n",
    "        return matrix"
   ]
  },
  {
   "cell_type": "code",
   "execution_count": 14,
   "id": "4f55cc63",
   "metadata": {},
   "outputs": [
    {
     "data": {
      "text/plain": [
       "[[1, 2, 3], [8, 9, 4], [7, 6, 5]]"
      ]
     },
     "execution_count": 14,
     "metadata": {},
     "output_type": "execute_result"
    }
   ],
   "source": [
    "n = 3\n",
    "sol = Solution()\n",
    "sol.generateMatrix(n)"
   ]
  },
  {
   "cell_type": "markdown",
   "id": "0b92a610",
   "metadata": {},
   "source": [
    "**Question 8**\n",
    "\n",
    "Given two [sparse matrices](https://en.wikipedia.org/wiki/Sparse_matrix) mat1 of size m x k and mat2 of size k x n, return the result of mat1 x mat2. You may assume that multiplication is always possible.\n",
    "\n",
    "**Example 1:**\n",
    "\n",
    "**Input:** mat1 = [[1,0,0],[-1,0,3]], mat2 = [[7,0,0],[0,0,0],[0,0,1]]\n",
    "\n",
    "**Output:**\n",
    "\n",
    "[[7,0,0],[-7,0,3]]\n"
   ]
  },
  {
   "cell_type": "code",
   "execution_count": 15,
   "id": "af543e9d",
   "metadata": {},
   "outputs": [],
   "source": [
    "class Solution:\n",
    "    def multiply(self, mat1: List[List[int]], mat2: List[List[int]]) -> List[List[int]]:\n",
    "        r1, c1, c2 = len(mat1), len(mat1[0]), len(mat2[0])\n",
    "        res = [[0] * c2 for _ in range(r1)]\n",
    "        for i in range(r1):\n",
    "            for j in range(c2):\n",
    "                for k in range(c1):\n",
    "                    res[i][j] += mat1[i][k] * mat2[k][j]\n",
    "        return res"
   ]
  },
  {
   "cell_type": "code",
   "execution_count": 16,
   "id": "d78114ec",
   "metadata": {},
   "outputs": [
    {
     "data": {
      "text/plain": [
       "[[7, 0, 0], [-7, 0, 3]]"
      ]
     },
     "execution_count": 16,
     "metadata": {},
     "output_type": "execute_result"
    }
   ],
   "source": [
    "mat1 = [[1,0,0],[-1,0,3]]\n",
    "mat2 = [[7,0,0],[0,0,0],[0,0,1]]\n",
    "sol = Solution()\n",
    "sol.multiply(mat1,mat2)"
   ]
  },
  {
   "cell_type": "code",
   "execution_count": null,
   "id": "138869d5",
   "metadata": {},
   "outputs": [],
   "source": []
  }
 ],
 "metadata": {
  "kernelspec": {
   "display_name": "Python 3 (ipykernel)",
   "language": "python",
   "name": "python3"
  },
  "language_info": {
   "codemirror_mode": {
    "name": "ipython",
    "version": 3
   },
   "file_extension": ".py",
   "mimetype": "text/x-python",
   "name": "python",
   "nbconvert_exporter": "python",
   "pygments_lexer": "ipython3",
   "version": "3.10.9"
  }
 },
 "nbformat": 4,
 "nbformat_minor": 5
}
