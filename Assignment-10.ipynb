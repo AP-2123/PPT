{
 "cells": [
  {
   "cell_type": "markdown",
   "id": "0bfbdccf",
   "metadata": {},
   "source": [
    "**Question 1**\n",
    "\n",
    "Given an integer `n`, return *`true` if it is a power of three. Otherwise, return `false`*.\n",
    "\n",
    "An integer `n` is a power of three, if there exists an integer `x` such that `n == 3x`.\n",
    "\n",
    "**Example 1:**\n",
    "\n",
    "```\n",
    "Input: n = 27\n",
    "Output: true\n",
    "Explanation: 27 = 33\n",
    "```\n",
    "\n",
    "**Example 2:**\n",
    "\n",
    "```\n",
    "Input: n = 0\n",
    "Output: false\n",
    "Explanation: There is no x where 3x = 0.\n",
    "\n",
    "```\n"
   ]
  },
  {
   "cell_type": "code",
   "execution_count": 1,
   "id": "4ee62f82",
   "metadata": {},
   "outputs": [],
   "source": [
    "class Solution:\n",
    "    def isPowerOfThree(self, n: int) -> bool:\n",
    "        if n <= 0:\n",
    "            return False\n",
    "        \n",
    "        while n % 3 == 0:\n",
    "            n //= 3\n",
    "        \n",
    "        return n == 1"
   ]
  },
  {
   "cell_type": "code",
   "execution_count": 2,
   "id": "4eece423",
   "metadata": {},
   "outputs": [
    {
     "name": "stdout",
     "output_type": "stream",
     "text": [
      "True\n"
     ]
    }
   ],
   "source": [
    "n = 27\n",
    "solution = Solution()\n",
    "result = solution.isPowerOfThree(n)\n",
    "print(result)  # Output: True"
   ]
  },
  {
   "cell_type": "markdown",
   "id": "497363ac",
   "metadata": {},
   "source": [
    "**Question 2**\n",
    "\n",
    "You have a list `arr` of all integers in the range `[1, n]` sorted in a strictly increasing order. Apply the following algorithm on `arr`:\n",
    "\n",
    "- Starting from left to right, remove the first number and every other number afterward until you reach the end of the list.\n",
    "- Repeat the previous step again, but this time from right to left, remove the rightmost number and every other number from the remaining numbers.\n",
    "- Keep repeating the steps again, alternating left to right and right to left, until a single number remains.\n",
    "\n",
    "Given the integer `n`, return *the last number that remains in* `arr`.\n",
    "\n",
    "**Example 1:**\n",
    "```\n",
    "Input: n = 9\n",
    "Output: 6\n",
    "Explanation:\n",
    "arr = [1, 2,3, 4,5, 6,7, 8,9]\n",
    "arr = [2,4, 6,8]\n",
    "arr = [2, 6]\n",
    "arr = [6]\n",
    "```\n",
    "**Example 2:**\n",
    "```\n",
    "Input: n = 1\n",
    "Output: 1\n",
    "```"
   ]
  },
  {
   "cell_type": "code",
   "execution_count": 3,
   "id": "523fc528",
   "metadata": {},
   "outputs": [],
   "source": [
    "class Solution:\n",
    "    def lastRemaining(self, n: int) -> int:\n",
    "        left_to_right = True\n",
    "        remaining = n\n",
    "        step = 1\n",
    "        head = 1\n",
    "        \n",
    "        while remaining > 1:\n",
    "            if left_to_right or remaining % 2 == 1:\n",
    "                head += step\n",
    "                \n",
    "            remaining //= 2\n",
    "            step *= 2\n",
    "            left_to_right = not left_to_right\n",
    "        \n",
    "        return head"
   ]
  },
  {
   "cell_type": "code",
   "execution_count": 4,
   "id": "1b7c8b5a",
   "metadata": {},
   "outputs": [
    {
     "name": "stdout",
     "output_type": "stream",
     "text": [
      "6\n"
     ]
    }
   ],
   "source": [
    "n = 9\n",
    "solution = Solution()\n",
    "result = solution.lastRemaining(n)\n",
    "print(result)  # Output: 6"
   ]
  },
  {
   "cell_type": "markdown",
   "id": "70cce5c4",
   "metadata": {},
   "source": [
    "**Question 3**\n",
    "\n",
    "Given a set represented as a string, write a recursive code to print all subsets of it. The subsets can be printed in any order.\n",
    "\n",
    "**Example 1:**\n",
    "\n",
    "Input :  set = “abc”\n",
    "\n",
    "Output : { “”, “a”, “b”, “c”, “ab”, “ac”, “bc”, “abc”}\n",
    "\n",
    "**Example 2:**\n",
    "\n",
    "Input : set = “abcd”\n",
    "\n",
    "Output : { “”, “a” ,”ab” ,”abc” ,”abcd”, “abd” ,”ac” ,”acd”, “ad” ,”b”, “bc” ,”bcd” ,”bd” ,”c” ,”cd” ,”d” }"
   ]
  },
  {
   "cell_type": "code",
   "execution_count": 5,
   "id": "d2715214",
   "metadata": {},
   "outputs": [],
   "source": [
    "class Solution:\n",
    "    def printSubsets(self, s, curr=\"\", index=0):\n",
    "        if index == len(s):\n",
    "            return [curr]\n",
    "\n",
    "        subsets = []\n",
    "        subsets.extend(self.printSubsets(s, curr, index + 1))  # Exclude current character\n",
    "        subsets.extend(self.printSubsets(s, curr + s[index], index + 1))  # Include current character\n",
    "\n",
    "        return subsets"
   ]
  },
  {
   "cell_type": "code",
   "execution_count": 6,
   "id": "092cae2e",
   "metadata": {},
   "outputs": [
    {
     "name": "stdout",
     "output_type": "stream",
     "text": [
      "['', 'd', 'c', 'cd', 'b', 'bd', 'bc', 'bcd', 'a', 'ad', 'ac', 'acd', 'ab', 'abd', 'abc', 'abcd']\n"
     ]
    }
   ],
   "source": [
    "set_str = \"abcd\"\n",
    "sol = Solution()\n",
    "subsets = sol.printSubsets(set_str)\n",
    "print(subsets)"
   ]
  },
  {
   "cell_type": "markdown",
   "id": "aa1df3f1",
   "metadata": {},
   "source": [
    "**Question 4**\n",
    "\n",
    "Given a string calculate length of the string using recursion.\n",
    "\n",
    "**Examples:**\n",
    "```\n",
    "Input : str = \"abcd\"\n",
    "Output :4\n",
    "\n",
    "Input : str = \"GEEKSFORGEEKS\"\n",
    "Output :13\n",
    "```"
   ]
  },
  {
   "cell_type": "code",
   "execution_count": 7,
   "id": "c7157043",
   "metadata": {},
   "outputs": [
    {
     "name": "stdout",
     "output_type": "stream",
     "text": [
      "4\n"
     ]
    }
   ],
   "source": [
    "class Solution:\n",
    "    def calculateLength(self, string):\n",
    "        if string == \"\":\n",
    "            return 0\n",
    "        else:\n",
    "            return 1 + self.calculateLength(string[1:])\n",
    "\n",
    "str = \"abcd\"\n",
    "sol = Solution()\n",
    "length = sol.calculateLength(str)\n",
    "print(length)"
   ]
  },
  {
   "cell_type": "markdown",
   "id": "f404eece",
   "metadata": {},
   "source": [
    "**Question 5**\n",
    "\n",
    "We are given a string S, we need to find count of all contiguous substrings starting and ending with same character.\n",
    "\n",
    "**Examples :**\n",
    "```\n",
    "Input  : S = \"abcab\"\n",
    "Output : 7\n",
    "There are 15 substrings of \"abcab\"\n",
    "a, ab, abc, abca, abcab, b, bc, bca\n",
    "bcab, c, ca, cab, a, ab, b\n",
    "Out of the above substrings, there\n",
    "are 7 substrings : a, abca, b, bcab,\n",
    "c, a and b.\n",
    "\n",
    "Input  : S = \"aba\"\n",
    "Output : 4\n",
    "The substrings are a, b, a and aba\n",
    "```"
   ]
  },
  {
   "cell_type": "code",
   "execution_count": 8,
   "id": "16205e49",
   "metadata": {},
   "outputs": [],
   "source": [
    "class Solution:\n",
    "    def countSubstrings(self,s):\n",
    "        count = 0\n",
    "        n = len(s)\n",
    "        for i in range(n):\n",
    "            for j in range(i, n):\n",
    "                if s[i] == s[j]:\n",
    "                    count += 1\n",
    "        return count"
   ]
  },
  {
   "cell_type": "code",
   "execution_count": 9,
   "id": "c12a6e33",
   "metadata": {},
   "outputs": [
    {
     "name": "stdout",
     "output_type": "stream",
     "text": [
      "7\n"
     ]
    }
   ],
   "source": [
    "sol = Solution()\n",
    "s = \"abcab\"\n",
    "count = sol.countSubstrings(s)\n",
    "print(count)\n"
   ]
  },
  {
   "cell_type": "markdown",
   "id": "8c3c52ce",
   "metadata": {},
   "source": [
    "**Question 6**\n",
    "\n",
    "The [tower of Hanoi](https://en.wikipedia.org/wiki/Tower_of_Hanoi) is a famous puzzle where we have three rods and **N** disks. The objective of the puzzle is to move the entire stack to another rod. You are given the number of discs **N**. Initially, these discs are in the rod 1. You need to print all the steps of discs movement so that all the discs reach the 3rd rod. Also, you need to find the total moves.**Note:** The discs are arranged such that the **top disc is numbered 1** and the **bottom-most disc is numbered N**. Also, all the discs have **different sizes** and a bigger disc **cannot** be put on the top of a smaller disc. Refer the provided link to get a better clarity about the puzzle.\n",
    "\n",
    "**Example 1:**\n",
    "```\n",
    "Input:\n",
    "N = 2\n",
    "Output:\n",
    "move disk 1 from rod 1 to rod 2\n",
    "move disk 2 from rod 1 to rod 3\n",
    "move disk 1 from rod 2 to rod 3\n",
    "3\n",
    "Explanation:For N=2 , steps will be\n",
    "as follows in the example and total\n",
    "3 steps will be taken.\n",
    "```"
   ]
  },
  {
   "cell_type": "code",
   "execution_count": 16,
   "id": "726ba706",
   "metadata": {},
   "outputs": [],
   "source": [
    "class Solution:\n",
    "    def towerOfHanoi(self,n, source, destination, auxiliary):\n",
    "        if n == 1:\n",
    "            print(\"move disk 1 from rod\", source, \"to rod\", destination)\n",
    "            return 1\n",
    "        else:\n",
    "            moves = 0\n",
    "            moves += self.towerOfHanoi(n-1, source, auxiliary, destination)\n",
    "            print(\"move disk\", n, \"from rod\", source, \"to rod\", destination)\n",
    "            moves += 1\n",
    "            moves += self.towerOfHanoi(n-1, auxiliary, destination, source)\n",
    "            return moves"
   ]
  },
  {
   "cell_type": "code",
   "execution_count": 17,
   "id": "d89d1e4a",
   "metadata": {},
   "outputs": [
    {
     "name": "stdout",
     "output_type": "stream",
     "text": [
      "move disk 1 from rod 1 to rod 2\n",
      "move disk 2 from rod 1 to rod 3\n",
      "move disk 1 from rod 2 to rod 3\n",
      "3\n"
     ]
    }
   ],
   "source": [
    "sol = Solution()\n",
    "N = 2\n",
    "total_moves = sol.towerOfHanoi(N, 1, 3, 2)\n",
    "print(total_moves)"
   ]
  },
  {
   "cell_type": "markdown",
   "id": "765d2637",
   "metadata": {},
   "source": [
    "**Question 7**\n",
    "\n",
    "Given a string **str**, the task is to print all the permutations of **str**. A **permutation** is an arrangement of all or part of a set of objects, with regard to the order of the arrangement. For instance, the words ‘bat’ and ‘tab’ represents two distinct permutation (or arrangements) of a similar three letter word.\n",
    "\n",
    "**Examples:**\n",
    "\n",
    "Input: str = “cd”\n",
    "\n",
    "**Output:** \n",
    "    \n",
    "cd dc\n",
    "\n",
    "**Input:** \n",
    "    \n",
    "str = “abb”\n",
    "\n",
    "**Output:** abb abb bab bba bab bba\n"
   ]
  },
  {
   "cell_type": "code",
   "execution_count": 18,
   "id": "3810cc52",
   "metadata": {},
   "outputs": [
    {
     "name": "stdout",
     "output_type": "stream",
     "text": [
      "cd\n",
      "dc\n"
     ]
    }
   ],
   "source": [
    "class Solution:\n",
    "    def permute(self, s, l, r):\n",
    "        if l == r:\n",
    "            print(\"\".join(s))\n",
    "        else:\n",
    "            for i in range(l, r + 1):\n",
    "                s[l], s[i] = s[i], s[l]  # Swap characters\n",
    "                self.permute(s, l + 1, r)  # Recurse on the remaining part\n",
    "                s[l], s[i] = s[i], s[l]  # Undo the swap\n",
    "\n",
    "    def printPermutations(self, str):\n",
    "        n = len(str)\n",
    "        s = list(str)  # Convert string to list for easier swapping\n",
    "        self.permute(s, 0, n - 1)\n",
    "\n",
    "sol = Solution()\n",
    "str = \"cd\"\n",
    "sol.printPermutations(str)"
   ]
  },
  {
   "cell_type": "markdown",
   "id": "0cc19052",
   "metadata": {},
   "source": [
    "**Question 8**\n",
    "\n",
    "Given a string, count total number of consonants in it. A consonant is an English alphabet character that is not vowel (a, e, i, o and u). Examples of constants are b, c, d, f, and g.\n",
    "\n",
    "**Examples :**\n",
    "```\n",
    "Input : abc de\n",
    "Output : 3\n",
    "There are three consonants b, c and d.\n",
    "\n",
    "Input : geeksforgeeks portal\n",
    "Output : 12\n",
    "```"
   ]
  },
  {
   "cell_type": "code",
   "execution_count": 19,
   "id": "41aa3f80",
   "metadata": {},
   "outputs": [],
   "source": [
    "class Solution:\n",
    "    def countConsonants(self, string):\n",
    "        consonants = 0\n",
    "        vowels = ['a', 'e', 'i', 'o', 'u']\n",
    "        for char in string:\n",
    "            if char.isalpha() and char.lower() not in vowels:\n",
    "                consonants += 1\n",
    "        return consonants"
   ]
  },
  {
   "cell_type": "code",
   "execution_count": 20,
   "id": "9c3a1f8a",
   "metadata": {},
   "outputs": [
    {
     "name": "stdout",
     "output_type": "stream",
     "text": [
      "3\n"
     ]
    }
   ],
   "source": [
    "sol = Solution()\n",
    "string = \"abc de\"\n",
    "consonant_count = sol.countConsonants(string)\n",
    "print(consonant_count)"
   ]
  },
  {
   "cell_type": "code",
   "execution_count": null,
   "id": "4da0be9e",
   "metadata": {},
   "outputs": [],
   "source": []
  }
 ],
 "metadata": {
  "kernelspec": {
   "display_name": "Python 3 (ipykernel)",
   "language": "python",
   "name": "python3"
  },
  "language_info": {
   "codemirror_mode": {
    "name": "ipython",
    "version": 3
   },
   "file_extension": ".py",
   "mimetype": "text/x-python",
   "name": "python",
   "nbconvert_exporter": "python",
   "pygments_lexer": "ipython3",
   "version": "3.10.9"
  }
 },
 "nbformat": 4,
 "nbformat_minor": 5
}
