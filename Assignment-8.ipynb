{
 "cells": [
  {
   "cell_type": "markdown",
   "id": "754cbe63",
   "metadata": {},
   "source": [
    "**Question 1**\n",
    "\n",
    "Given two strings s1 and s2, return *the lowest **ASCII** sum of deleted characters to make two strings equal*.\n",
    "\n",
    "**Example 1:**\n",
    "\n",
    "**Input:** s1 = \"sea\", s2 = \"eat\"\n",
    "\n",
    "**Output:** 231\n",
    "\n",
    "**Explanation:** Deleting \"s\" from \"sea\" adds the ASCII value of \"s\" (115) to the sum.\n",
    "\n",
    "Deleting \"t\" from \"eat\" adds 116 to the sum.\n",
    "\n",
    "At the end, both strings are equal, and 115 + 116 = 231 is the minimum sum possible to achieve this."
   ]
  },
  {
   "cell_type": "code",
   "execution_count": 1,
   "id": "c26c78c6",
   "metadata": {},
   "outputs": [],
   "source": [
    "class Solution:\n",
    "    def minimumDeleteSum(self, s1: str, s2: str) -> int:\n",
    "\n",
    "        def lcs(s,p):\n",
    "            m,n = len(s),len(p)\n",
    "            dp = [[0 for _ in range(n+1)] for _ in range(m+1)]\n",
    "            for i in range(m):\n",
    "                for j in range(n):\n",
    "                    if s[i]==p[j]:\n",
    "                        dp[i+1][j+1] = dp[i][j]+ord(s[i])\n",
    "                    else:\n",
    "                        dp[i+1][j+1] = max(dp[i+1][j],dp[i][j+1])\n",
    "\n",
    "            return dp[-1][-1]\n",
    "\n",
    "        common = lcs(s1,s2)\n",
    "        total,res = 0,0\n",
    "        for c in s1:\n",
    "            total+=ord(c)\n",
    "        for c in s2:\n",
    "            total+=ord(c)\n",
    "\n",
    "        res = total - common*2\n",
    "        return res"
   ]
  },
  {
   "cell_type": "code",
   "execution_count": 2,
   "id": "70419119",
   "metadata": {},
   "outputs": [
    {
     "data": {
      "text/plain": [
       "231"
      ]
     },
     "execution_count": 2,
     "metadata": {},
     "output_type": "execute_result"
    }
   ],
   "source": [
    "s1 = \"sea\" \n",
    "s2 = \"eat\"\n",
    "sol = Solution()\n",
    "sol.minimumDeleteSum(s1,s2)"
   ]
  },
  {
   "cell_type": "markdown",
   "id": "1e7aeb7e",
   "metadata": {},
   "source": [
    "**Question 2**\n",
    "\n",
    "Given a string s containing only three types of characters: '(', ')' and '*', return true *if* s *is **valid***.\n",
    "\n",
    "The following rules define a **valid** string:\n",
    "\n",
    "- Any left parenthesis '(' must have a corresponding right parenthesis ')'.\n",
    "- Any right parenthesis ')' must have a corresponding left parenthesis '('.\n",
    "- Left parenthesis '(' must go before the corresponding right parenthesis ')'.\n",
    "- '*' could be treated as a single right parenthesis ')' or a single left parenthesis '(' or an empty string \"\".\n",
    "\n",
    "**Example 1:**\n",
    "\n",
    "**Input:** s = \"()\"\n",
    "\n",
    "**Output:**\n",
    "\n",
    "true"
   ]
  },
  {
   "cell_type": "code",
   "execution_count": 3,
   "id": "712f5c45",
   "metadata": {},
   "outputs": [],
   "source": [
    "class Solution:\n",
    "    def checkValidString(self,s):\n",
    "        open_count = 0\n",
    "        asterisk_count = 0\n",
    "        n = len(s)\n",
    "\n",
    "        for i in range(n):\n",
    "            if s[i] == '(':\n",
    "                open_count += 1\n",
    "            elif s[i] == ')':\n",
    "                if open_count > 0:\n",
    "                    open_count -= 1\n",
    "                elif asterisk_count > 0:\n",
    "                    asterisk_count -= 1\n",
    "                else:\n",
    "                    return False\n",
    "            elif s[i] == '*':\n",
    "                asterisk_count += 1\n",
    "\n",
    "        while open_count > 0 and asterisk_count > 0:\n",
    "            open_count -= 1\n",
    "            asterisk_count -= 1\n",
    "\n",
    "        return open_count == 0"
   ]
  },
  {
   "cell_type": "code",
   "execution_count": 4,
   "id": "6f30c1d8",
   "metadata": {},
   "outputs": [
    {
     "data": {
      "text/plain": [
       "True"
      ]
     },
     "execution_count": 4,
     "metadata": {},
     "output_type": "execute_result"
    }
   ],
   "source": [
    "s = \"()\"\n",
    "sol = Solution()\n",
    "sol.checkValidString(s)"
   ]
  },
  {
   "cell_type": "markdown",
   "id": "6e30b3ff",
   "metadata": {},
   "source": [
    "**Question 3**\n",
    "\n",
    "Given two strings word1 and word2, return *the minimum number of **steps** required to make* word1 *and* word2 *the same*.\n",
    "\n",
    "In one **step**, you can delete exactly one character in either string.\n",
    "\n",
    "**Example 1:**\n",
    "\n",
    "**Input:** word1 = \"sea\", word2 = \"eat\"\n",
    "\n",
    "**Output:** 2"
   ]
  },
  {
   "cell_type": "code",
   "execution_count": 5,
   "id": "034677cc",
   "metadata": {},
   "outputs": [],
   "source": [
    "class Solution:\n",
    "    def minStepsToDelete(self,word1, word2):\n",
    "        m, n = len(word1), len(word2)\n",
    "        dp = [[0] * (n + 1) for _ in range(m + 1)]\n",
    "\n",
    "        for i in range(1, m + 1):\n",
    "            for j in range(1, n + 1):\n",
    "                if word1[i - 1] == word2[j - 1]:\n",
    "                    dp[i][j] = dp[i - 1][j - 1] + 1\n",
    "                else:\n",
    "                    dp[i][j] = max(dp[i - 1][j], dp[i][j - 1])\n",
    "\n",
    "        longest_common_subsequence_length = dp[m][n]\n",
    "        steps_required = m + n - 2 * longest_common_subsequence_length\n",
    "\n",
    "        return steps_required"
   ]
  },
  {
   "cell_type": "code",
   "execution_count": 6,
   "id": "96c08386",
   "metadata": {},
   "outputs": [
    {
     "data": {
      "text/plain": [
       "2"
      ]
     },
     "execution_count": 6,
     "metadata": {},
     "output_type": "execute_result"
    }
   ],
   "source": [
    "word1 = \"sea\"\n",
    "word2 = \"eat\"\n",
    "sol = Solution()\n",
    "sol.minStepsToDelete(word1,word2)"
   ]
  },
  {
   "cell_type": "markdown",
   "id": "3ccd1180",
   "metadata": {},
   "source": [
    "**Question 4**\n",
    "\n",
    "You need to construct a binary tree from a string consisting of parenthesis and integers.\n",
    "\n",
    "The whole input represents a binary tree. It contains an integer followed by zero, one or two pairs of parenthesis. The integer represents the root's value and a pair of parenthesis contains a child binary tree with the same structure.\n",
    "You always start to construct the **left** child node of the parent first if it exists.\n",
    "\n",
    "**Input:** s = \"4(2(3)(1))(6(5))\"\n",
    "\n",
    "**Output:** [4,2,6,3,1,5]"
   ]
  },
  {
   "cell_type": "code",
   "execution_count": 7,
   "id": "6a90dee2",
   "metadata": {},
   "outputs": [],
   "source": [
    "from typing import Optional\n",
    "\n",
    "\n",
    "class TreeNode:\n",
    "    def __init__(self, val=0, left=None, right=None):\n",
    "        self.val = val\n",
    "        self.left = left\n",
    "        self.right = right\n",
    "\n",
    "\n",
    "class Solution:\n",
    "    def tree2list(self, root: Optional[TreeNode]) -> list[int]:\n",
    "        if root is None:\n",
    "            return []\n",
    "\n",
    "        queue = [root]\n",
    "        result = []\n",
    "\n",
    "        while queue:\n",
    "            node = queue.pop(0)\n",
    "            result.append(node.val)\n",
    "\n",
    "            if node.left:\n",
    "                queue.append(node.left)\n",
    "\n",
    "            if node.right:\n",
    "                queue.append(node.right)\n",
    "\n",
    "        return result"
   ]
  },
  {
   "cell_type": "code",
   "execution_count": 9,
   "id": "702f232f",
   "metadata": {},
   "outputs": [
    {
     "data": {
      "text/plain": [
       "[4, 2, 6, 3, 1, 5]"
      ]
     },
     "execution_count": 9,
     "metadata": {},
     "output_type": "execute_result"
    }
   ],
   "source": [
    "# Create the binary tree\n",
    "root = TreeNode(4)\n",
    "root.left = TreeNode(2)\n",
    "root.right = TreeNode(6)\n",
    "root.left.left = TreeNode(3)\n",
    "root.left.right = TreeNode(1)\n",
    "root.right.left = TreeNode(5)\n",
    "\n",
    "sol = Solution()\n",
    "sol.tree2list(root)"
   ]
  },
  {
   "cell_type": "markdown",
   "id": "c2166f02",
   "metadata": {},
   "source": [
    "**Question 5**\n",
    "\n",
    "Given an array of characters chars, compress it using the following algorithm:\n",
    "\n",
    "Begin with an empty string s. For each group of **consecutive repeating characters** in chars:\n",
    "\n",
    "- If the group's length is 1, append the character to s.\n",
    "- Otherwise, append the character followed by the group's length.\n",
    "\n",
    "The compressed string s **should not be returned separately**, but instead, be stored **in the input character array chars**. Note that group lengths that are 10 or longer will be split into multiple characters in chars.\n",
    "\n",
    "After you are done **modifying the input array,** return *the new length of the array*.\n",
    "\n",
    "You must write an algorithm that uses only constant extra space.\n",
    "\n",
    "**Example 1:**\n",
    "\n",
    "**Input:** chars = [\"a\",\"a\",\"b\",\"b\",\"c\",\"c\",\"c\"]\n",
    "\n",
    "**Output:** Return 6, and the first 6 characters of the input array should be: [\"a\",\"2\",\"b\",\"2\",\"c\",\"3\"]\n",
    "\n",
    "**Explanation:**\n",
    "\n",
    "The groups are \"aa\", \"bb\", and \"ccc\". This compresses to \"a2b2c3\".\n"
   ]
  },
  {
   "cell_type": "code",
   "execution_count": 10,
   "id": "5fcc15a8",
   "metadata": {},
   "outputs": [],
   "source": [
    "from typing import List\n",
    "\n",
    "class Solution:\n",
    "    def compress(self, chars: List[str]) -> int:\n",
    "        length = len(chars)\n",
    "        if length <= 1:\n",
    "            return length\n",
    "\n",
    "        write_index = 0\n",
    "        count = 1\n",
    "\n",
    "        for i in range(1, length):\n",
    "            if chars[i] == chars[i - 1]:\n",
    "                count += 1\n",
    "            else:\n",
    "                chars[write_index] = chars[i - 1]\n",
    "                write_index += 1\n",
    "\n",
    "                if count > 1:\n",
    "                    count_str = str(count)\n",
    "                    for digit in count_str:\n",
    "                        chars[write_index] = digit\n",
    "                        write_index += 1\n",
    "\n",
    "                count = 1\n",
    "\n",
    "        chars[write_index] = chars[length - 1]\n",
    "        write_index += 1\n",
    "\n",
    "        if count > 1:\n",
    "            count_str = str(count)\n",
    "            for digit in count_str:\n",
    "                chars[write_index] = digit\n",
    "                write_index += 1\n",
    "\n",
    "        return write_index"
   ]
  },
  {
   "cell_type": "code",
   "execution_count": 11,
   "id": "d82a2de8",
   "metadata": {},
   "outputs": [
    {
     "name": "stdout",
     "output_type": "stream",
     "text": [
      "6\n",
      "['a', '2', 'b', '2', 'c', '3']\n"
     ]
    }
   ],
   "source": [
    "chars = [\"a\", \"a\", \"b\", \"b\", \"c\", \"c\", \"c\"]\n",
    "sol = Solution()\n",
    "new_length = sol.compress(chars)\n",
    "compressed_chars = chars[:new_length]\n",
    "print(new_length)          \n",
    "print(compressed_chars)\n"
   ]
  },
  {
   "cell_type": "markdown",
   "id": "af0c9b03",
   "metadata": {},
   "source": [
    "**Question 6**\n",
    "\n",
    "Given two strings s and p, return *an array of all the start indices of* p*'s anagrams in* s. You may return the answer in **any order**.\n",
    "\n",
    "An **Anagram** is a word or phrase formed by rearranging the letters of a different word or phrase, typically using all the original letters exactly once.\n",
    "\n",
    "**Example 1:**\n",
    "\n",
    "**Input:** s = \"cbaebabacd\", p = \"abc\"\n",
    "\n",
    "**Output:** [0,6]\n",
    "\n",
    "**Explanation:**\n",
    "\n",
    "The substring with start index = 0 is \"cba\", which is an anagram of \"abc\".\n",
    "\n",
    "The substring with start index = 6 is \"bac\", which is an anagram of \"abc\"."
   ]
  },
  {
   "cell_type": "code",
   "execution_count": 12,
   "id": "6faf2364",
   "metadata": {},
   "outputs": [],
   "source": [
    "from collections import Counter\n",
    "from typing import List\n",
    "\n",
    "class Solution:\n",
    "    def findAnagrams(self, s: str, p: str) -> List[int]:\n",
    "        result = []\n",
    "        p_counter = Counter(p)\n",
    "        s_counter = Counter(s[:len(p)])\n",
    "        \n",
    "        if s_counter == p_counter:\n",
    "            result.append(0)\n",
    "        \n",
    "        for i in range(1, len(s) - len(p) + 1):\n",
    "            if s_counter[s[i - 1]] == 1:\n",
    "                del s_counter[s[i - 1]]\n",
    "            else:\n",
    "                s_counter[s[i - 1]] -= 1\n",
    "            \n",
    "            s_counter[s[i + len(p) - 1]] += 1\n",
    "            \n",
    "            if s_counter == p_counter:\n",
    "                result.append(i)\n",
    "        \n",
    "        return result"
   ]
  },
  {
   "cell_type": "code",
   "execution_count": 13,
   "id": "ee89556b",
   "metadata": {},
   "outputs": [
    {
     "name": "stdout",
     "output_type": "stream",
     "text": [
      "[0, 6]\n"
     ]
    }
   ],
   "source": [
    "s = \"cbaebabacd\"\n",
    "p = \"abc\"\n",
    "sol = Solution()\n",
    "indices = sol.findAnagrams(s, p)\n",
    "print(indices)  # Output: [0, 6]\n"
   ]
  },
  {
   "cell_type": "markdown",
   "id": "ded3d4f2",
   "metadata": {},
   "source": [
    "**Question 7**\n",
    "\n",
    "Given an encoded string, return its decoded string.\n",
    "\n",
    "The encoding rule is: k[encoded_string], where the encoded_string inside the square brackets is being repeated exactly k times. Note that k is guaranteed to be a positive integer.\n",
    "\n",
    "You may assume that the input string is always valid; there are no extra white spaces, square brackets are well-formed, etc. Furthermore, you may assume that the original data does not contain any digits and that digits are only for those repeat numbers, k. For example, there will not be input like 3a or 2[4].\n",
    "\n",
    "The test cases are generated so that the length of the output will never exceed 105.\n",
    "\n",
    "**Example 1:**\n",
    "\n",
    "**Input:** s = \"3[a]2[bc]\"\n",
    "\n",
    "**Output:** \"aaabcbc\""
   ]
  },
  {
   "cell_type": "code",
   "execution_count": 14,
   "id": "cea52a01",
   "metadata": {},
   "outputs": [],
   "source": [
    "class Solution:\n",
    "    def decodeString(self, s: str) -> str:\n",
    "        stack = []\n",
    "        current_string = \"\"\n",
    "        current_count = 0\n",
    "        \n",
    "        for char in s:\n",
    "            if char.isdigit():\n",
    "                current_count = current_count * 10 + int(char)\n",
    "            elif char == '[':\n",
    "                stack.append(current_string)\n",
    "                stack.append(current_count)\n",
    "                current_string = \"\"\n",
    "                current_count = 0\n",
    "            elif char == ']':\n",
    "                count = stack.pop()\n",
    "                prev_string = stack.pop()\n",
    "                current_string = prev_string + count * current_string\n",
    "            else:\n",
    "                current_string += char\n",
    "        \n",
    "        return current_string"
   ]
  },
  {
   "cell_type": "code",
   "execution_count": 15,
   "id": "172bca39",
   "metadata": {},
   "outputs": [
    {
     "data": {
      "text/plain": [
       "'aaabcbc'"
      ]
     },
     "execution_count": 15,
     "metadata": {},
     "output_type": "execute_result"
    }
   ],
   "source": [
    "s = \"3[a]2[bc]\"\n",
    "sol = Solution()\n",
    "sol.decodeString(s)"
   ]
  },
  {
   "cell_type": "markdown",
   "id": "b14f2da9",
   "metadata": {},
   "source": [
    "**Question 8**\n",
    "\n",
    "Given two strings s and goal, return true *if you can swap two letters in* s *so the result is equal to* goal*, otherwise, return* false*.*\n",
    "\n",
    "Swapping letters is defined as taking two indices i and j (0-indexed) such that i != j and swapping the characters at s[i] and s[j].\n",
    "\n",
    "- For example, swapping at indices 0 and 2 in \"abcd\" results in \"cbad\".\n",
    "\n",
    "**Example 1:**\n",
    "\n",
    "**Input:** s = \"ab\", goal = \"ba\"\n",
    "\n",
    "**Output:** true\n",
    "\n",
    "**Explanation:** You can swap s[0] = 'a' and s[1] = 'b' to get \"ba\", which is equal to goal.\n"
   ]
  },
  {
   "cell_type": "code",
   "execution_count": 16,
   "id": "47c5ecbe",
   "metadata": {},
   "outputs": [],
   "source": [
    "class Solution:\n",
    "    def buddyStrings(self, s: str, goal: str) -> bool:\n",
    "        if len(s) != len(goal):\n",
    "            return False\n",
    "        \n",
    "        if s == goal and len(set(s)) < len(s):\n",
    "            return True\n",
    "        \n",
    "        differences = []\n",
    "        for i in range(len(s)):\n",
    "            if s[i] != goal[i]:\n",
    "                differences.append(i)\n",
    "        \n",
    "        return len(differences) == 2 and s[differences[0]] == goal[differences[1]] and s[differences[1]] == goal[differences[0]]"
   ]
  },
  {
   "cell_type": "code",
   "execution_count": 17,
   "id": "30794240",
   "metadata": {},
   "outputs": [
    {
     "data": {
      "text/plain": [
       "True"
      ]
     },
     "execution_count": 17,
     "metadata": {},
     "output_type": "execute_result"
    }
   ],
   "source": [
    "s = \"ab\"\n",
    "goal = \"ba\"\n",
    "sol = Solution()\n",
    "sol.buddyStrings(s, goal)"
   ]
  }
 ],
 "metadata": {
  "kernelspec": {
   "display_name": "Python 3 (ipykernel)",
   "language": "python",
   "name": "python3"
  },
  "language_info": {
   "codemirror_mode": {
    "name": "ipython",
    "version": 3
   },
   "file_extension": ".py",
   "mimetype": "text/x-python",
   "name": "python",
   "nbconvert_exporter": "python",
   "pygments_lexer": "ipython3",
   "version": "3.10.9"
  }
 },
 "nbformat": 4,
 "nbformat_minor": 5
}
