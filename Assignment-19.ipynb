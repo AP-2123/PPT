{
 "cells": [
  {
   "cell_type": "markdown",
   "id": "c614c093",
   "metadata": {},
   "source": [
    "1. **Merge k Sorted Lists**\n",
    "\n",
    "You are given an array of `k` linked-lists `lists`, each linked-list is sorted in ascending order.\n",
    "\n",
    "*Merge all the linked-lists into one sorted linked-list and return it.*\n",
    "\n",
    "**Example 1:**\n",
    "\n",
    "```\n",
    "Input: lists = [[1,4,5],[1,3,4],[2,6]]\n",
    "Output: [1,1,2,3,4,4,5,6]\n",
    "Explanation: The linked-lists are:\n",
    "[\n",
    "  1->4->5,\n",
    "  1->3->4,\n",
    "  2->6\n",
    "]\n",
    "merging them into one sorted list:\n",
    "1->1->2->3->4->4->5->6\n",
    "\n",
    "```\n",
    "\n",
    "**Example 2:**\n",
    "\n",
    "```\n",
    "Input: lists = []\n",
    "Output: []\n",
    "\n",
    "```\n",
    "\n",
    "**Example 3:**\n",
    "\n",
    "```\n",
    "Input: lists = [[]]\n",
    "Output: []\n",
    "\n",
    "```\n",
    "\n",
    "**Constraints:**\n",
    "\n",
    "- `k == lists.length`\n",
    "- `0 <= k <= 10000`\n",
    "- `0 <= lists[i].length <= 500`\n",
    "- `-10000 <= lists[i][j] <= 10000`\n",
    "- `lists[i]` is sorted in **ascending order**.\n",
    "- The sum of `lists[i].length` will not exceed `10000`."
   ]
  },
  {
   "cell_type": "code",
   "execution_count": 1,
   "id": "21ecf066",
   "metadata": {},
   "outputs": [],
   "source": [
    "class ListNode:\n",
    "    def __init__(self, val=0, next=None):\n",
    "        self.val = val\n",
    "        self.next = next\n",
    "\n",
    "def mergeKLists(lists):\n",
    "    values = []\n",
    "    for linked_list in lists:\n",
    "        while linked_list:\n",
    "            values.append(linked_list.val)\n",
    "            linked_list = linked_list.next\n",
    "\n",
    "    values.sort()\n",
    "    dummy = ListNode()\n",
    "    curr = dummy\n",
    "\n",
    "    for value in values:\n",
    "        curr.next = ListNode(value)\n",
    "        curr = curr.next\n",
    "\n",
    "    return dummy.next"
   ]
  },
  {
   "cell_type": "code",
   "execution_count": 2,
   "id": "3d928071",
   "metadata": {},
   "outputs": [
    {
     "name": "stdout",
     "output_type": "stream",
     "text": [
      "1 -> 1 -> 2 -> 3 -> 4 -> 4 -> 5 -> 6 -> None\n"
     ]
    }
   ],
   "source": [
    "list1 = ListNode(1, ListNode(4, ListNode(5)))\n",
    "list2 = ListNode(1, ListNode(3, ListNode(4)))\n",
    "list3 = ListNode(2, ListNode(6))\n",
    "\n",
    "lists = [list1, list2, list3]\n",
    "merged = mergeKLists(lists)\n",
    "\n",
    "# Output: 1 -> 1 -> 2 -> 3 -> 4 -> 4 -> 5 -> 6\n",
    "while merged:\n",
    "    print(merged.val, end=\" -> \")\n",
    "    merged = merged.next\n",
    "print(\"None\")"
   ]
  },
  {
   "cell_type": "markdown",
   "id": "0f0b6136",
   "metadata": {},
   "source": [
    "2. **Count of Smaller Numbers After Self**\n",
    "\n",
    "Given an integer array `nums`, return *an integer array* `counts` *where* `counts[i]` *is the number of smaller elements to the right of* `nums[i]`.\n",
    "\n",
    "**Example 1:**\n",
    "\n",
    "```\n",
    "Input: nums = [5,2,6,1]\n",
    "Output: [2,1,1,0]\n",
    "Explanation:\n",
    "To the right of 5 there are2 smaller elements (2 and 1).\n",
    "To the right of 2 there is only1 smaller element (1).\n",
    "To the right of 6 there is1 smaller element (1).\n",
    "To the right of 1 there is0 smaller element.\n",
    "\n",
    "```\n",
    "\n",
    "**Example 2:**\n",
    "\n",
    "```\n",
    "Input: nums = [-1]\n",
    "Output: [0]\n",
    "\n",
    "```\n",
    "\n",
    "**Example 3:**\n",
    "\n",
    "```\n",
    "Input: nums = [-1,-1]\n",
    "Output: [0,0]\n",
    "\n",
    "```\n",
    "\n",
    "**Constraints:**\n",
    "\n",
    "- `1 <= nums.length <= 100000`\n",
    "- `-10000 <= nums[i] <= 10000`"
   ]
  },
  {
   "cell_type": "code",
   "execution_count": 3,
   "id": "9e129597",
   "metadata": {},
   "outputs": [],
   "source": [
    "def countSmaller(nums):\n",
    "    n = len(nums)\n",
    "    result = [0] * n\n",
    "\n",
    "    def mergeSort(start, end):\n",
    "        if start >= end:\n",
    "            return\n",
    "\n",
    "        mid = (start + end) // 2\n",
    "        mergeSort(start, mid)\n",
    "        mergeSort(mid + 1, end)\n",
    "\n",
    "        left = start\n",
    "        right = mid + 1\n",
    "        merged = 0\n",
    "\n",
    "        while left <= mid and right <= end:\n",
    "            if nums[left] > nums[right]:\n",
    "                merged += end - right + 1\n",
    "                result[left] += end - right + 1\n",
    "                left += 1\n",
    "            else:\n",
    "                right += 1\n",
    "\n",
    "        while left <= mid:\n",
    "            result[left + merged] = 0\n",
    "            left += 1\n",
    "\n",
    "        temp = nums[start:end + 1]\n",
    "        i = start\n",
    "        j = 0\n",
    "\n",
    "        while i <= end and j < len(temp):\n",
    "            nums[i] = temp[j]\n",
    "            i += 1\n",
    "            j += 1\n",
    "\n",
    "    mergeSort(0, n - 1)\n",
    "    return result\n"
   ]
  },
  {
   "cell_type": "code",
   "execution_count": 4,
   "id": "1510bd1b",
   "metadata": {},
   "outputs": [
    {
     "name": "stdout",
     "output_type": "stream",
     "text": [
      "[2, 1, 1, 0]\n"
     ]
    }
   ],
   "source": [
    "nums = [5, 2, 6, 1]\n",
    "counts = countSmaller(nums)\n",
    "print(counts)  # Output: [2, 1, 1, 0]"
   ]
  },
  {
   "cell_type": "markdown",
   "id": "0cdf6ee3",
   "metadata": {},
   "source": [
    "3. **Sort an Array**\n",
    "\n",
    "Given an array of integers `nums`, sort the array in ascending order and return it.\n",
    "\n",
    "You must solve the problem **without using any built-in** functions in `O(nlog(n))` time complexity and with the smallest space complexity possible.\n",
    "\n",
    "**Example 1:**\n",
    "\n",
    "```\n",
    "Input: nums = [5,2,3,1]\n",
    "Output: [1,2,3,5]\n",
    "Explanation: After sorting the array, the positions of some numbers are not changed (for example, 2 and 3), while the positions of other numbers are changed (for example, 1 and 5).\n",
    "\n",
    "```\n",
    "\n",
    "**Example 2:**\n",
    "\n",
    "```\n",
    "Input: nums = [5,1,1,2,0,0]\n",
    "Output: [0,0,1,1,2,5]\n",
    "Explanation: Note that the values of nums are not necessairly unique.\n",
    "\n",
    "```\n",
    "\n",
    "**Constraints:**\n",
    "\n",
    "- `1 <= nums.length <= 5 * 10000`\n",
    "- `-5 * 104 <= nums[i] <= 5 * 10000`"
   ]
  },
  {
   "cell_type": "code",
   "execution_count": 5,
   "id": "061fbfff",
   "metadata": {},
   "outputs": [],
   "source": [
    "def partition(nums, low, high):\n",
    "    pivot = nums[high]\n",
    "    i = low - 1\n",
    "\n",
    "    for j in range(low, high):\n",
    "        if nums[j] <= pivot:\n",
    "            i += 1\n",
    "            nums[i], nums[j] = nums[j], nums[i]\n",
    "\n",
    "    nums[i + 1], nums[high] = nums[high], nums[i + 1]\n",
    "    return i + 1\n",
    "\n",
    "def quickSort(nums, low, high):\n",
    "    if low < high:\n",
    "        pivotIndex = partition(nums, low, high)\n",
    "        quickSort(nums, low, pivotIndex - 1)\n",
    "        quickSort(nums, pivotIndex + 1, high)\n",
    "\n",
    "def sortArray(nums):\n",
    "    quickSort(nums, 0, len(nums) - 1)\n",
    "    return nums\n"
   ]
  },
  {
   "cell_type": "code",
   "execution_count": 6,
   "id": "18df621f",
   "metadata": {},
   "outputs": [
    {
     "name": "stdout",
     "output_type": "stream",
     "text": [
      "[1, 2, 3, 5]\n",
      "[0, 0, 1, 1, 2, 5]\n"
     ]
    }
   ],
   "source": [
    "nums = [5, 2, 3, 1]\n",
    "sorted_nums = sortArray(nums)\n",
    "print(sorted_nums) \n",
    "\n",
    "nums = [5, 1, 1, 2, 0, 0]\n",
    "sorted_nums = sortArray(nums)\n",
    "print(sorted_nums)\n"
   ]
  },
  {
   "cell_type": "markdown",
   "id": "18cf7e0a",
   "metadata": {},
   "source": [
    "4. **Move all zeroes to end of array**\n",
    "\n",
    "Given an array of random numbers, Push all the zero’s of a given array to the end of the array. For example, if the given arrays is {1, 9, 8, 4, 0, 0, 2, 7, 0, 6, 0}, it should be changed to {1, 9, 8, 4, 2, 7, 6, 0, 0, 0, 0}. The order of all other elements should be same. Expected time complexity is O(n) and extra space is O(1).\n",
    "\n",
    "**Example:**\n",
    "\n",
    "Input :  arr[] = {1, 2, 0, 4, 3, 0, 5, 0};\n",
    "    \n",
    "Output : arr[] = {1, 2, 4, 3, 5, 0, 0, 0};\n",
    "\n",
    "Input : arr[]  = {1, 2, 0, 0, 0, 3, 6};\n",
    "    \n",
    "Output : arr[] = {1, 2, 3, 6, 0, 0, 0};"
   ]
  },
  {
   "cell_type": "code",
   "execution_count": 7,
   "id": "0e382aa7",
   "metadata": {},
   "outputs": [],
   "source": [
    "def moveZeroesToEnd(arr):\n",
    "    insertPos = 0\n",
    "\n",
    "    for i in range(len(arr)):\n",
    "        if arr[i] != 0:\n",
    "            arr[insertPos] = arr[i]\n",
    "            insertPos += 1\n",
    "\n",
    "    for i in range(insertPos, len(arr)):\n",
    "        arr[i] = 0\n",
    "\n",
    "    return arr"
   ]
  },
  {
   "cell_type": "code",
   "execution_count": 8,
   "id": "b6b86c3c",
   "metadata": {},
   "outputs": [
    {
     "name": "stdout",
     "output_type": "stream",
     "text": [
      "[1, 2, 4, 3, 5, 0, 0, 0]\n"
     ]
    }
   ],
   "source": [
    "arr = [1, 2, 0, 4, 3, 0, 5, 0]\n",
    "result = moveZeroesToEnd(arr)\n",
    "print(result)  # Output: [1, 2, 4, 3, 5, 0, 0, 0]"
   ]
  },
  {
   "cell_type": "markdown",
   "id": "274c20ca",
   "metadata": {},
   "source": [
    "5. **Rearrange array in alternating positive & negative items with O(1) extra space**\n",
    "\n",
    "Given an **array of positive** and **negative numbers**, arrange them in an **alternate** fashion such that every positive number is followed by a negative and vice-versa maintaining the **order of appearance**. The number of positive and negative numbers need not be equal. If there are more positive numbers they appear at the end of the array. If there are more negative numbers, they too appear at the end of the array.\n",
    "\n",
    "**Examples:**\n",
    "\n",
    "Input:  arr[] = {1, 2, 3, -4, -1, 4}\n",
    "    \n",
    "Output: arr[] = {-4, 1, -1, 2, 3, 4}\n",
    "\n",
    "Input:  arr[] = {-5, -2, 5, 2, 4, 7, 1, 8, 0, -8}\n",
    "    \n",
    "Output: arr[] = {-5, 5, -2, 2, -8, 4, 7, 1, 8, 0}\n"
   ]
  },
  {
   "cell_type": "code",
   "execution_count": 9,
   "id": "697b5005",
   "metadata": {},
   "outputs": [],
   "source": [
    "def rearrangeAlternate(arr):\n",
    "    # Separate positive and negative numbers\n",
    "    positive = [num for num in arr if num > 0]\n",
    "    negative = [num for num in arr if num < 0]\n",
    "\n",
    "    # Sort the positive and negative arrays\n",
    "    positive.sort()\n",
    "    negative.sort()\n",
    "\n",
    "    merged = []\n",
    "    i, j = 0, 0\n",
    "\n",
    "    while i < len(positive) and j < len(negative):\n",
    "        merged.append(negative[j])\n",
    "        merged.append(positive[i])\n",
    "        i += 1\n",
    "        j += 1\n",
    "\n",
    "    # Append remaining positive or negative numbers\n",
    "    while i < len(positive):\n",
    "        merged.append(positive[i])\n",
    "        i += 1\n",
    "\n",
    "    while j < len(negative):\n",
    "        merged.append(negative[j])\n",
    "        j += 1\n",
    "\n",
    "    return merged"
   ]
  },
  {
   "cell_type": "code",
   "execution_count": 10,
   "id": "7b40cb1a",
   "metadata": {},
   "outputs": [
    {
     "name": "stdout",
     "output_type": "stream",
     "text": [
      "[-4, 1, -1, 2, 3, 4]\n",
      "[-8, 1, -5, 2, -2, 4, 5, 7, 8]\n"
     ]
    }
   ],
   "source": [
    "arr = [1, 2, 3, -4, -1, 4]\n",
    "result = rearrangeAlternate(arr)\n",
    "print(result)\n",
    "\n",
    "arr = [-5, -2, 5, 2, 4, 7, 1, 8, 0, -8]\n",
    "result = rearrangeAlternate(arr)\n",
    "print(result)"
   ]
  },
  {
   "cell_type": "markdown",
   "id": "97373232",
   "metadata": {},
   "source": [
    "**6. Merge two sorted arrays**\n",
    "\n",
    "Given two sorted arrays, the task is to merge them in a sorted manner.\n",
    "\n",
    "**Examples:**\n",
    "\n",
    "Input: arr1[] = { 1, 3, 4, 5}, arr2[] = {2, 4, 6, 8} \n",
    "    \n",
    "Output: arr3[] = {1, 2, 3, 4, 4, 5, 6, 8}\n",
    "\n",
    "Input: arr1[] = { 5, 8, 9}, arr2[] = {4, 7, 8}\n",
    "    \n",
    "Output: arr3[] = {4, 5, 7, 8, 8, 9}\n"
   ]
  },
  {
   "cell_type": "code",
   "execution_count": 11,
   "id": "826025a4",
   "metadata": {},
   "outputs": [],
   "source": [
    "def mergeSortedArrays(arr1, arr2):\n",
    "    result = []\n",
    "    i, j = 0, 0\n",
    "\n",
    "    while i < len(arr1) and j < len(arr2):\n",
    "        if arr1[i] <= arr2[j]:\n",
    "            result.append(arr1[i])\n",
    "            i += 1\n",
    "        else:\n",
    "            result.append(arr2[j])\n",
    "            j += 1\n",
    "\n",
    "    while i < len(arr1):\n",
    "        result.append(arr1[i])\n",
    "        i += 1\n",
    "\n",
    "    while j < len(arr2):\n",
    "        result.append(arr2[j])\n",
    "        j += 1\n",
    "\n",
    "    return result"
   ]
  },
  {
   "cell_type": "code",
   "execution_count": 12,
   "id": "910a3297",
   "metadata": {},
   "outputs": [
    {
     "name": "stdout",
     "output_type": "stream",
     "text": [
      "[1, 2, 3, 4, 4, 5, 6, 8]\n",
      "[4, 5, 7, 8, 8, 9]\n"
     ]
    }
   ],
   "source": [
    "arr1 = [1, 3, 4, 5]\n",
    "arr2 = [2, 4, 6, 8]\n",
    "result = mergeSortedArrays(arr1, arr2)\n",
    "print(result)  \n",
    "\n",
    "arr1 = [5, 8, 9]\n",
    "arr2 = [4, 7, 8]\n",
    "result = mergeSortedArrays(arr1, arr2)\n",
    "print(result)  "
   ]
  },
  {
   "cell_type": "markdown",
   "id": "957115ab",
   "metadata": {},
   "source": [
    "7. **Intersection of Two Arrays**\n",
    "\n",
    "Given two integer arrays `nums1` and `nums2`, return *an array of their intersection*. Each element in the result must be **unique** and you may return the result in **any order**.\n",
    "\n",
    "**Example 1:**\n",
    "\n",
    "```\n",
    "Input: nums1 = [1,2,2,1], nums2 = [2,2]\n",
    "Output: [2]\n",
    "\n",
    "```\n",
    "\n",
    "**Example 2:**\n",
    "\n",
    "```\n",
    "Input: nums1 = [4,9,5], nums2 = [9,4,9,8,4]\n",
    "Output: [9,4]\n",
    "Explanation: [4,9] is also accepted.\n",
    "\n",
    "```\n",
    "\n",
    "**Constraints:**\n",
    "\n",
    "- `1 <= nums1.length, nums2.length <= 1000`\n",
    "- `0 <= nums1[i], nums2[i] <= 1000`"
   ]
  },
  {
   "cell_type": "code",
   "execution_count": 13,
   "id": "08e7e954",
   "metadata": {},
   "outputs": [],
   "source": [
    "def intersection(nums1, nums2):\n",
    "    set1 = set(nums1)\n",
    "    intersection = set()\n",
    "\n",
    "    for num in nums2:\n",
    "        if num in set1:\n",
    "            intersection.add(num)\n",
    "\n",
    "    return list(intersection)"
   ]
  },
  {
   "cell_type": "code",
   "execution_count": 14,
   "id": "c9c1b942",
   "metadata": {},
   "outputs": [
    {
     "name": "stdout",
     "output_type": "stream",
     "text": [
      "[2]\n",
      "[9, 4]\n"
     ]
    }
   ],
   "source": [
    "nums1 = [1, 2, 2, 1]\n",
    "nums2 = [2, 2]\n",
    "result = intersection(nums1, nums2)\n",
    "print(result)\n",
    "\n",
    "nums1 = [4, 9, 5]\n",
    "nums2 = [9, 4, 9, 8, 4]\n",
    "result = intersection(nums1, nums2)\n",
    "print(result)"
   ]
  },
  {
   "cell_type": "markdown",
   "id": "4966cb52",
   "metadata": {},
   "source": [
    "8. **Intersection of Two Arrays II**\n",
    "\n",
    "Given two integer arrays `nums1` and `nums2`, return *an array of their intersection*. Each element in the result must appear as many times as it shows in both arrays and you may return the result in **any order**.\n",
    "\n",
    "**Example 1:**\n",
    "\n",
    "```\n",
    "Input: nums1 = [1,2,2,1], nums2 = [2,2]\n",
    "Output: [2,2]\n",
    "\n",
    "```\n",
    "\n",
    "**Example 2:**\n",
    "\n",
    "```\n",
    "Input: nums1 = [4,9,5], nums2 = [9,4,9,8,4]\n",
    "Output: [4,9]\n",
    "Explanation: [9,4] is also accepted.\n",
    "\n",
    "```\n",
    "\n",
    "**Constraints:**\n",
    "\n",
    "- `1 <= nums1.length, nums2.length <= 1000`\n",
    "- `0 <= nums1[i], nums2[i] <= 1000`"
   ]
  },
  {
   "cell_type": "code",
   "execution_count": 15,
   "id": "199ec059",
   "metadata": {},
   "outputs": [],
   "source": [
    "def intersect(nums1, nums2):\n",
    "    freq = {}\n",
    "    for num in nums1:\n",
    "        freq[num] = freq.get(num, 0) + 1\n",
    "\n",
    "    intersection = []\n",
    "    for num in nums2:\n",
    "        if num in freq and freq[num] > 0:\n",
    "            intersection.append(num)\n",
    "            freq[num] -= 1\n",
    "\n",
    "    return intersection"
   ]
  },
  {
   "cell_type": "code",
   "execution_count": 16,
   "id": "f1ac46df",
   "metadata": {},
   "outputs": [
    {
     "name": "stdout",
     "output_type": "stream",
     "text": [
      "[2, 2]\n",
      "[9, 4]\n"
     ]
    }
   ],
   "source": [
    "nums1 = [1, 2, 2, 1]\n",
    "nums2 = [2, 2]\n",
    "result = intersect(nums1, nums2)\n",
    "print(result)\n",
    "\n",
    "nums1 = [4, 9, 5]\n",
    "nums2 = [9, 4, 9, 8, 4]\n",
    "result = intersect(nums1, nums2)\n",
    "print(result)\n"
   ]
  },
  {
   "cell_type": "code",
   "execution_count": null,
   "id": "faf7f46e",
   "metadata": {},
   "outputs": [],
   "source": []
  }
 ],
 "metadata": {
  "kernelspec": {
   "display_name": "Python 3 (ipykernel)",
   "language": "python",
   "name": "python3"
  },
  "language_info": {
   "codemirror_mode": {
    "name": "ipython",
    "version": 3
   },
   "file_extension": ".py",
   "mimetype": "text/x-python",
   "name": "python",
   "nbconvert_exporter": "python",
   "pygments_lexer": "ipython3",
   "version": "3.9.12"
  }
 },
 "nbformat": 4,
 "nbformat_minor": 5
}
