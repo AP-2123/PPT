{
 "cells": [
  {
   "cell_type": "markdown",
   "id": "25712ff4",
   "metadata": {},
   "source": [
    "**Question 1**\n",
    "\n",
    "Given an integer `n`, return *`true` if it is a power of two. Otherwise, return `false`*.\n",
    "\n",
    "An integer `n` is a power of two, if there exists an integer `x` such that `n == 2x`.\n",
    "\n",
    "**Example 1:**\n",
    "Input: n = 1 \n",
    "\n",
    "Output: true\n",
    "\n",
    "**Example 2:**\n",
    "Input: n = 16 \n",
    "\n",
    "Output: true\n",
    "\n",
    "**Example 3:**\n",
    "Input: n = 3 \n",
    "\n",
    "Output: false"
   ]
  },
  {
   "cell_type": "code",
   "execution_count": 1,
   "id": "4307cb9f",
   "metadata": {},
   "outputs": [],
   "source": [
    "class Solution:\n",
    "    def isPowerOfTwo(self, n: int) -> bool:\n",
    "        return n > 0 and bin(n).count('1') == 1"
   ]
  },
  {
   "cell_type": "code",
   "execution_count": 2,
   "id": "d19e8436",
   "metadata": {},
   "outputs": [
    {
     "data": {
      "text/plain": [
       "False"
      ]
     },
     "execution_count": 2,
     "metadata": {},
     "output_type": "execute_result"
    }
   ],
   "source": [
    "n = 3\n",
    "sol = Solution()\n",
    "sol.isPowerOfTwo(n)"
   ]
  },
  {
   "cell_type": "markdown",
   "id": "2b4a7976",
   "metadata": {},
   "source": [
    "**Question 2**\n",
    "\n",
    "Given a number n, find the sum of the first natural numbers.\n",
    "\n",
    "**Example 1:**\n",
    "\n",
    "Input: n = 3 \n",
    "m\n",
    "Output: 6\n",
    "\n",
    "**Example 2:**\n",
    "\n",
    "Input  : 5 \n",
    "\n",
    "Output : 15"
   ]
  },
  {
   "cell_type": "code",
   "execution_count": 3,
   "id": "75143e1f",
   "metadata": {},
   "outputs": [],
   "source": [
    "class Solution:\n",
    "    def sumOfNaturals(self, n: int) -> int:\n",
    "        return (n * (n + 1)) // 2"
   ]
  },
  {
   "cell_type": "code",
   "execution_count": 4,
   "id": "eb73eea0",
   "metadata": {},
   "outputs": [
    {
     "data": {
      "text/plain": [
       "15"
      ]
     },
     "execution_count": 4,
     "metadata": {},
     "output_type": "execute_result"
    }
   ],
   "source": [
    "n = 5\n",
    "sol = Solution()\n",
    "sol.sumOfNaturals(n)"
   ]
  },
  {
   "cell_type": "markdown",
   "id": "4932517d",
   "metadata": {},
   "source": [
    "**Question 3**\n",
    "\n",
    "Given a positive integer, N. Find the factorial of N. \n",
    "\n",
    "**Example 1:**\n",
    "\n",
    "Input: N = 5 \n",
    "\n",
    "Output: 120\n",
    "\n",
    "**Example 2:**\n",
    "\n",
    "Input: N = 4\n",
    "\n",
    "Output: 24"
   ]
  },
  {
   "cell_type": "code",
   "execution_count": 5,
   "id": "595fd838",
   "metadata": {},
   "outputs": [],
   "source": [
    "class Solution:\n",
    "    def factorial(self, N: int) -> int:\n",
    "        factorial = 1\n",
    "        for i in range(1, N + 1):\n",
    "            factorial *= i\n",
    "        return factorial"
   ]
  },
  {
   "cell_type": "code",
   "execution_count": 6,
   "id": "a1e665bf",
   "metadata": {},
   "outputs": [
    {
     "data": {
      "text/plain": [
       "24"
      ]
     },
     "execution_count": 6,
     "metadata": {},
     "output_type": "execute_result"
    }
   ],
   "source": [
    "N = 4\n",
    "sol = Solution()\n",
    "sol.factorial(N)"
   ]
  },
  {
   "cell_type": "markdown",
   "id": "a843b3a4",
   "metadata": {},
   "source": [
    "**Question 4**\n",
    "\n",
    "Given a number N and a power P, the task is to find the exponent of this number raised to the given power, i.e. N^P.\n",
    "\n",
    "**Example 1 :** \n",
    "\n",
    "Input: N = 5, P = 2\n",
    "\n",
    "Output: 25\n",
    "\n",
    "**Example 2 :**\n",
    "Input: N = 2, P = 5\n",
    "\n",
    "Output: 32"
   ]
  },
  {
   "cell_type": "code",
   "execution_count": 7,
   "id": "bb5accec",
   "metadata": {},
   "outputs": [],
   "source": [
    "class Solution:\n",
    "    def find_exponent(self,N, P):\n",
    "        result = N ** P\n",
    "        return result"
   ]
  },
  {
   "cell_type": "code",
   "execution_count": 8,
   "id": "5b7a9836",
   "metadata": {},
   "outputs": [
    {
     "data": {
      "text/plain": [
       "32"
      ]
     },
     "execution_count": 8,
     "metadata": {},
     "output_type": "execute_result"
    }
   ],
   "source": [
    "N = 2\n",
    "P = 5\n",
    "sol = Solution()\n",
    "sol.find_exponent(N,P)"
   ]
  },
  {
   "cell_type": "markdown",
   "id": "3cbdc551",
   "metadata": {},
   "source": [
    "**Question 5**\n",
    "\n",
    "Given an array of integers **arr**, the task is to find maximum element of that array using recursion.\n",
    "\n",
    "**Example 1:**\n",
    "\n",
    "Input: arr = {1, 4, 3, -5, -4, 8, 6};\n",
    "Output: 8\n",
    "\n",
    "**Example 2:**\n",
    "\n",
    "Input: arr = {1, 4, 45, 6, 10, -8};\n",
    "Output: 45"
   ]
  },
  {
   "cell_type": "code",
   "execution_count": 9,
   "id": "60aa7fd1",
   "metadata": {},
   "outputs": [],
   "source": [
    "class Solution:\n",
    "    def find_maximum(self, arr):\n",
    "        if len(arr) == 1:\n",
    "            return arr[0]\n",
    "        mid = len(arr) // 2\n",
    "        left_max = self.find_maximum(arr[:mid])  \n",
    "        right_max = self.find_maximum(arr[mid:])\n",
    "        return max(left_max, right_max)"
   ]
  },
  {
   "cell_type": "code",
   "execution_count": 10,
   "id": "f6afe5d9",
   "metadata": {},
   "outputs": [
    {
     "data": {
      "text/plain": [
       "8"
      ]
     },
     "execution_count": 10,
     "metadata": {},
     "output_type": "execute_result"
    }
   ],
   "source": [
    "arr = [1, 4, 3, -5, -4, 8, 6]\n",
    "sol = Solution()\n",
    "sol.find_maximum(arr)"
   ]
  },
  {
   "cell_type": "markdown",
   "id": "43aaeabe",
   "metadata": {},
   "source": [
    "**Question 6**\n",
    "\n",
    "Given first term (a), common difference (d) and a integer N of the Arithmetic Progression series, the task is to find Nth term of the series.\n",
    "\n",
    "**Example 1:**\n",
    "\n",
    "Input : a = 2 d = 1 N = 5\n",
    "Output : 6\n",
    "The 5th term of the series is : 6\n",
    "\n",
    "**Example 2:**\n",
    "\n",
    "Input : a = 5 d = 2 N = 10\n",
    "Output : 23\n",
    "The 10th term of the series is : 23"
   ]
  },
  {
   "cell_type": "code",
   "execution_count": 11,
   "id": "384eb4c1",
   "metadata": {},
   "outputs": [],
   "source": [
    "class Solution:\n",
    "    def find_nth_term(self,a, d, N):\n",
    "        nth_term = a + (N - 1) * d\n",
    "        return nth_term"
   ]
  },
  {
   "cell_type": "code",
   "execution_count": 12,
   "id": "d3b9b1db",
   "metadata": {},
   "outputs": [
    {
     "data": {
      "text/plain": [
       "6"
      ]
     },
     "execution_count": 12,
     "metadata": {},
     "output_type": "execute_result"
    }
   ],
   "source": [
    "a = 2 \n",
    "d = 1 \n",
    "N = 5\n",
    "sol = Solution()\n",
    "sol.find_nth_term(a,d,N)"
   ]
  },
  {
   "cell_type": "markdown",
   "id": "42203110",
   "metadata": {},
   "source": [
    "**Question 7**\n",
    "\n",
    "Given a string S, the task is to write a program to print all permutations of a given string.\n",
    "\n",
    "**Example 1:**\n",
    "\n",
    "***Input:***\n",
    "\n",
    "*S = “ABC”*\n",
    "\n",
    "***Output:***\n",
    "\n",
    "*“ABC”, “ACB”, “BAC”, “BCA”, “CBA”, “CAB”*\n",
    "\n",
    "**Example 2:**\n",
    "\n",
    "***Input:***\n",
    "\n",
    "*S = “XY”*\n",
    "\n",
    "***Output:***\n",
    "\n",
    "*“XY”, “YX”*"
   ]
  },
  {
   "cell_type": "code",
   "execution_count": 15,
   "id": "1e358cb2",
   "metadata": {},
   "outputs": [],
   "source": [
    "class Solution:\n",
    "    def generate_permutations(self, string):\n",
    "        if len(string) == 1:\n",
    "            return [string]\n",
    "        permutations = []\n",
    "        for i in range(len(string)):\n",
    "            first_char = string[i]\n",
    "            remaining_chars = string[:i] + string[i+1:]\n",
    "            sub_permutations = self.generate_permutations(remaining_chars)  # Use self.generate_permutations instead of generate_permutations\n",
    "            for sub_permutation in sub_permutations:\n",
    "                permutation = first_char + sub_permutation\n",
    "                permutations.append(permutation)\n",
    "\n",
    "        return permutations"
   ]
  },
  {
   "cell_type": "code",
   "execution_count": 16,
   "id": "e3fa0a65",
   "metadata": {},
   "outputs": [
    {
     "data": {
      "text/plain": [
       "['ABC', 'ACB', 'BAC', 'BCA', 'CAB', 'CBA']"
      ]
     },
     "execution_count": 16,
     "metadata": {},
     "output_type": "execute_result"
    }
   ],
   "source": [
    "S = 'ABC'\n",
    "sol = Solution()\n",
    "sol.generate_permutations(S)"
   ]
  },
  {
   "cell_type": "markdown",
   "id": "7f0ac8d0",
   "metadata": {},
   "source": [
    "**Question 8**\n",
    "\n",
    "Given an array, find a product of all array elements.\n",
    "\n",
    "**Example 1:**\n",
    "\n",
    "Input  : arr[] = {1, 2, 3, 4, 5}\n",
    "Output : 120\n",
    "**Example 2:**\n",
    "\n",
    "Input  : arr[] = {1, 6, 3}\n",
    "Output : 18"
   ]
  },
  {
   "cell_type": "code",
   "execution_count": 17,
   "id": "7b7586a6",
   "metadata": {},
   "outputs": [],
   "source": [
    "class Solution:\n",
    "    def find_product(self,arr):\n",
    "        product = 1\n",
    "        for num in arr:\n",
    "            product *= num\n",
    "        return product"
   ]
  },
  {
   "cell_type": "code",
   "execution_count": 18,
   "id": "f8644bb0",
   "metadata": {},
   "outputs": [
    {
     "data": {
      "text/plain": [
       "120"
      ]
     },
     "execution_count": 18,
     "metadata": {},
     "output_type": "execute_result"
    }
   ],
   "source": [
    "arr = {1, 2, 3, 4, 5}\n",
    "sol = Solution()\n",
    "sol.find_product(arr)"
   ]
  },
  {
   "cell_type": "code",
   "execution_count": null,
   "id": "b6055800",
   "metadata": {},
   "outputs": [],
   "source": []
  }
 ],
 "metadata": {
  "kernelspec": {
   "display_name": "Python 3 (ipykernel)",
   "language": "python",
   "name": "python3"
  },
  "language_info": {
   "codemirror_mode": {
    "name": "ipython",
    "version": 3
   },
   "file_extension": ".py",
   "mimetype": "text/x-python",
   "name": "python",
   "nbconvert_exporter": "python",
   "pygments_lexer": "ipython3",
   "version": "3.10.9"
  }
 },
 "nbformat": 4,
 "nbformat_minor": 5
}
