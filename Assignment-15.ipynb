{
 "cells": [
  {
   "cell_type": "markdown",
   "id": "2524ef92",
   "metadata": {},
   "source": [
    "**Question 1**\n",
    "\n",
    "Given an array **arr[ ]** of size **N** having elements, the task is to find the next greater element for each element of the array in order of their appearance in the array.Next greater element of an element in the array is the nearest element on the right which is greater than the current element.If there does not exist next greater of current element, then next greater element for current element is -1. For example, next greater of the last element is always -1.\n",
    "\n",
    "**Example 1:**\n",
    "```\n",
    "Input:\n",
    "N = 4, arr[] = [1 3 2 4]\n",
    "Output:\n",
    "3 4 4 -1\n",
    "Explanation:\n",
    "In the array, the next larger element\n",
    "to 1 is 3 , 3 is 4 , 2 is 4 and for 4 ?\n",
    "since it doesn't exist, it is -1.\n",
    "```\n",
    "**Example 1:**\n",
    "    \n",
    "```\n",
    "Input:\n",
    "N = 5, arr[] [6 8 0 1 3]\n",
    "Output:\n",
    "8 -1 1 3 -1\n",
    "Explanation:\n",
    "In the array, the next larger element to\n",
    "6 is 8, for 8 there is no larger elements\n",
    "hence it is -1, for 0 it is 1 , for 1 it\n",
    "is 3 and then for 3 there is no larger\n",
    "element on right and hence -1.\n",
    "```"
   ]
  },
  {
   "cell_type": "code",
   "execution_count": 1,
   "id": "279048e2",
   "metadata": {},
   "outputs": [],
   "source": [
    "from typing import List\n",
    "\n",
    "def grtElement(N:int,arr:List[int])->List[int]:\n",
    "    stack = []\n",
    "    result =[-1]*N\n",
    "    for i in range(N-1,-1,-1):\n",
    "        while stack and stack[-1]<=arr[i]:\n",
    "            stack.pop()\n",
    "        if stack:\n",
    "            result[i] = stack[-1]\n",
    "        stack.append(arr[i])\n",
    "            \n",
    "    return result"
   ]
  },
  {
   "cell_type": "code",
   "execution_count": 2,
   "id": "563d51d4",
   "metadata": {},
   "outputs": [],
   "source": [
    "N = 5\n",
    "arr = [6,8,0,1,3]"
   ]
  },
  {
   "cell_type": "code",
   "execution_count": 3,
   "id": "7d37f574",
   "metadata": {},
   "outputs": [
    {
     "data": {
      "text/plain": [
       "[8, -1, 1, 3, -1]"
      ]
     },
     "execution_count": 3,
     "metadata": {},
     "output_type": "execute_result"
    }
   ],
   "source": [
    "grtElement(N,arr)"
   ]
  },
  {
   "cell_type": "code",
   "execution_count": 4,
   "id": "8bbd3553",
   "metadata": {},
   "outputs": [
    {
     "ename": "NameError",
     "evalue": "name 'findNextGreater' is not defined",
     "output_type": "error",
     "traceback": [
      "\u001b[1;31m---------------------------------------------------------------------------\u001b[0m",
      "\u001b[1;31mNameError\u001b[0m                                 Traceback (most recent call last)",
      "Input \u001b[1;32mIn [4]\u001b[0m, in \u001b[0;36m<cell line: 1>\u001b[1;34m()\u001b[0m\n\u001b[1;32m----> 1\u001b[0m \u001b[43mfindNextGreater\u001b[49m(N,arr)\n",
      "\u001b[1;31mNameError\u001b[0m: name 'findNextGreater' is not defined"
     ]
    }
   ],
   "source": [
    "findNextGreater(N,arr)"
   ]
  },
  {
   "cell_type": "markdown",
   "id": "724ce4d6",
   "metadata": {},
   "source": [
    " **Question 2**\n",
    "\n",
    "Given an array **a** of integers of length **n**, find the nearest smaller number for every element such that the smaller element is on left side.If no small element present on the left print -1.\n",
    "\n",
    "**Example 1:**\n",
    "```\n",
    "Input: n = 3\n",
    "a = {1, 6, 2}\n",
    "Output: -1 1 1\n",
    "Explaination: There is no number at the\n",
    "left of 1. Smaller number than 6 and 2 is 1.\n",
    "```\n",
    "    \n",
    "**Example 2:**\n",
    "```\n",
    "Input: n = 6\n",
    "a = {1, 5, 0, 3, 4, 5}\n",
    "Output: -1 1 -1 0 3 4\n",
    "Explaination: Upto 3 it is easy to see\n",
    "the smaller numbers. But for 4 the smaller\n",
    "numbers are 1, 0 and 3. But among them 3\n",
    "is closest. Similary for 5 it is 4.\n",
    "```"
   ]
  },
  {
   "cell_type": "code",
   "execution_count": null,
   "id": "c1ae9e0c",
   "metadata": {},
   "outputs": [],
   "source": [
    "from typing import List\n",
    "\n",
    "def smallNumber(n:int,arr:List[int])->List[int]:\n",
    "    stack = []\n",
    "    result = [-1]*n\n",
    "    for i in range(n):\n",
    "        while stack and stack[-1]>=arr[i]:\n",
    "            stack.pop()\n",
    "        if stack:\n",
    "            result[i] = stack[-1]\n",
    "        stack.append(arr[i])\n",
    "    return result"
   ]
  },
  {
   "cell_type": "code",
   "execution_count": null,
   "id": "7d5c2fa1",
   "metadata": {},
   "outputs": [],
   "source": [
    "n = 3\n",
    "a = [1, 6, 2]\n",
    "smallNumber(n,a)"
   ]
  },
  {
   "cell_type": "code",
   "execution_count": null,
   "id": "19c4e014",
   "metadata": {},
   "outputs": [],
   "source": [
    "n = 6\n",
    "a = [1, 5, 0, 3, 4, 5]\n",
    "smallNumber(n,a)"
   ]
  },
  {
   "cell_type": "markdown",
   "id": "bfe7ea74",
   "metadata": {},
   "source": [
    "**Question 3**\n",
    "\n",
    "Implement a Stack using two queues **q1** and **q2**.\n",
    "\n",
    "**Example 1:**\n",
    "```\n",
    "Input:\n",
    "push(2)\n",
    "push(3)\n",
    "pop()\n",
    "push(4)\n",
    "pop()\n",
    "Output:3 4\n",
    "Explanation:\n",
    "push(2) the stack will be {2}\n",
    "push(3) the stack will be {2 3}\n",
    "pop()   poped element will be 3 the\n",
    "        stack will be {2}\n",
    "push(4) the stack will be {2 4}\n",
    "pop()   poped element will be 4\n",
    "\n",
    "```\n",
    "\n",
    "**Example 2:**\n",
    "```\n",
    "Input:\n",
    "push(2)\n",
    "pop()\n",
    "pop()\n",
    "push(3)\n",
    "Output:2 -1\n",
    "```"
   ]
  },
  {
   "cell_type": "code",
   "execution_count": null,
   "id": "7104a474",
   "metadata": {},
   "outputs": [],
   "source": [
    "class Stack:\n",
    "    def __init__(self):\n",
    "        self.q1 = []\n",
    "        self.q2 = []\n",
    "\n",
    "    def push(self, element):\n",
    "        self.q1.append(element)\n",
    "\n",
    "    def pop(self):\n",
    "        if not self.q1:\n",
    "            return -1\n",
    "\n",
    "        while len(self.q1) > 1:\n",
    "            self.q2.append(self.q1.pop(0))\n",
    "\n",
    "        popped_element = self.q1.pop(0)\n",
    "\n",
    "        self.q1, self.q2 = self.q2, self.q1\n",
    "\n",
    "        return popped_element\n"
   ]
  },
  {
   "cell_type": "code",
   "execution_count": null,
   "id": "863eee61",
   "metadata": {},
   "outputs": [],
   "source": [
    "# Create a Stack instance\n",
    "stack = Stack()\n",
    "\n",
    "# Example 1\n",
    "stack.push(2)\n",
    "stack.push(3)\n",
    "print(stack.pop(), end = \" \")\n",
    "stack.push(4)\n",
    "print(stack.pop())\n"
   ]
  },
  {
   "cell_type": "code",
   "execution_count": null,
   "id": "4a139c7b",
   "metadata": {},
   "outputs": [],
   "source": [
    "# Example 2\n",
    "stack.push(2)\n",
    "print(stack.pop(), end = \" \")\n",
    "print(stack.pop())\n",
    "stack.push(3)"
   ]
  },
  {
   "cell_type": "markdown",
   "id": "caa81828",
   "metadata": {},
   "source": [
    "**Question 4**\n",
    "\n",
    "You are given a stack **St**. You have to reverse the stack using recursion.\n",
    "\n",
    "**Example 1:**\n",
    "\n",
    "```\n",
    "Input:St = {3,2,1,7,6}\n",
    "Output:{6,7,1,2,3}\n",
    "```\n",
    "\n",
    "**Example 2:**\n",
    "```\n",
    "Input:St = {4,3,9,6}\n",
    "Output:{6,9,3,4}\n",
    "```"
   ]
  },
  {
   "cell_type": "code",
   "execution_count": null,
   "id": "a132542f",
   "metadata": {},
   "outputs": [],
   "source": [
    "def reverseStack(stack):\n",
    "    if len(stack) <= 1:\n",
    "        return\n",
    "    top_element = stack.pop()\n",
    "    reverseStack(stack)\n",
    "    insertAtBottom(stack, top_element)\n",
    "\n",
    "\n",
    "def insertAtBottom(stack, element):\n",
    "    if len(stack) == 0:\n",
    "        stack.append(element)\n",
    "        return\n",
    "    top_element = stack.pop()\n",
    "    insertAtBottom(stack, element)\n",
    "    stack.append(top_element)\n"
   ]
  },
  {
   "cell_type": "code",
   "execution_count": null,
   "id": "81606a18",
   "metadata": {},
   "outputs": [],
   "source": [
    "stack = [3, 2, 1, 7, 6]\n",
    "reverseStack(stack)\n",
    "print(stack)\n"
   ]
  },
  {
   "cell_type": "code",
   "execution_count": null,
   "id": "a38a4fe2",
   "metadata": {},
   "outputs": [],
   "source": [
    "stack = [4,3,9,6]\n",
    "reverseStack(stack)\n",
    "print(stack)"
   ]
  },
  {
   "cell_type": "markdown",
   "id": "e28a4ada",
   "metadata": {},
   "source": [
    "**Question 5**\n",
    "\n",
    "You are given a string **S**, the task is to reverse the string using stack.\n",
    "\n",
    "**Example 1:**\n",
    "\n",
    "```\n",
    "Input: S=\"GeeksforGeeks\"\n",
    "Output: skeeGrofskeeG\n",
    "```"
   ]
  },
  {
   "cell_type": "code",
   "execution_count": null,
   "id": "df9dd544",
   "metadata": {},
   "outputs": [],
   "source": [
    "def reverseString(s:str)->str:\n",
    "    stack=[]\n",
    "    for i in range(len(s)-1,-1,-1):\n",
    "        stack.append(s[i])\n",
    "    return \"\".join(stack)"
   ]
  },
  {
   "cell_type": "code",
   "execution_count": null,
   "id": "de9473f5",
   "metadata": {},
   "outputs": [],
   "source": [
    "S=\"GeeksforGeeks\"\n",
    "reverseString(S)"
   ]
  },
  {
   "cell_type": "code",
   "execution_count": null,
   "id": "8efd8f41",
   "metadata": {},
   "outputs": [],
   "source": [
    "def reverseString(s:str)->str:\n",
    "    stack = []\n",
    "    for char in s:\n",
    "        stack.append(char)\n",
    "\n",
    "    reversed_string = \"\"\n",
    "    while stack:\n",
    "        reversed_string += stack.pop()\n",
    "\n",
    "    return reversed_string"
   ]
  },
  {
   "cell_type": "code",
   "execution_count": null,
   "id": "c3664de1",
   "metadata": {},
   "outputs": [],
   "source": [
    "S=\"GeeksforGeeks\"\n",
    "reverseString(S)"
   ]
  },
  {
   "cell_type": "markdown",
   "id": "4f7b6461",
   "metadata": {},
   "source": [
    "**Question 6**\n",
    "\n",
    "Given string **S** representing a postfix expression, the task is to evaluate the expression and find the final value. Operators will only include the basic arithmetic operators like ***, /, + and -**.\n",
    "\n",
    "**Example 1:**\n",
    "\n",
    "```\n",
    "Input: S = \"231*+9-\"\n",
    "Output: -4\n",
    "Explanation:\n",
    "After solving the given expression,\n",
    "we have -4 as result.\n",
    "\n",
    "```\n",
    "\n",
    "**Example 2:**\n",
    "```\n",
    "Input: S = \"123+*8-\"\n",
    "Output: -3\n",
    "Explanation:\n",
    "After solving the given postfix\n",
    "expression, we have -3 as result.\n",
    "```"
   ]
  },
  {
   "cell_type": "code",
   "execution_count": null,
   "id": "5179bd75",
   "metadata": {},
   "outputs": [],
   "source": [
    "def evaluatePostfixExpression(S):\n",
    "    stack = []\n",
    "    for char in S:\n",
    "        if char.isdigit():\n",
    "            stack.append(int(char))\n",
    "        else:\n",
    "            operand2 = stack.pop()\n",
    "            operand1 = stack.pop()\n",
    "            result = performOperation(operand1, operand2, char)\n",
    "            stack.append(result)\n",
    "    return stack.pop()\n",
    "\n",
    "\n",
    "def performOperation(operand1, operand2, operator):\n",
    "    if operator == '+':\n",
    "        return operand1 + operand2\n",
    "    elif operator == '-':\n",
    "        return operand1 - operand2\n",
    "    elif operator == '*':\n",
    "        return operand1 * operand2\n",
    "    elif operator == '/':\n",
    "        return operand1 / operand2"
   ]
  },
  {
   "cell_type": "code",
   "execution_count": null,
   "id": "2ac2c099",
   "metadata": {},
   "outputs": [],
   "source": [
    "S = \"231*+9-\"\n",
    "result = evaluatePostfixExpression(S)\n",
    "print(result)"
   ]
  },
  {
   "cell_type": "code",
   "execution_count": null,
   "id": "7d5eac59",
   "metadata": {},
   "outputs": [],
   "source": [
    "S = \"123+*8-\"\n",
    "result = evaluatePostfixExpression(S)\n",
    "print(result)"
   ]
  },
  {
   "cell_type": "markdown",
   "id": "b8006561",
   "metadata": {},
   "source": [
    "**Question 7**\n",
    "\n",
    "Design a stack that supports push, pop, top, and retrieving the minimum element in constant time.\n",
    "\n",
    "Implement the `MinStack` class:\n",
    "\n",
    "- `MinStack()` initializes the stack object.\n",
    "- `void push(int val)` pushes the element `val` onto the stack.\n",
    "- `void pop()` removes the element on the top of the stack.\n",
    "- `int top()` gets the top element of the stack.\n",
    "- `int getMin()` retrieves the minimum element in the stack.\n",
    "\n",
    "You must implement a solution with `O(1)` time complexity for each function.\n",
    "\n",
    "**Example 1:**\n",
    "\n",
    "'''\n",
    "Input\n",
    "\n",
    "[\"MinStack\",\"push\",\"push\",\"push\",\"getMin\",\"pop\",\"top\",\"getMin\"]\n",
    "\n",
    "[[],[-2],[0],[-3],[],[],[],[]]\n",
    "\n",
    "Output\n",
    "\n",
    "[null,null,null,null,-3,null,0,-2]\n",
    "\n",
    "Explanation\n",
    "\n",
    "MinStack minStack = new MinStack();\n",
    "\n",
    "minStack.push(-2);\n",
    "\n",
    "minStack.push(0);\n",
    "\n",
    "minStack.push(-3);\n",
    "\n",
    "minStack.getMin(); // return -3\n",
    "\n",
    "minStack.pop();\n",
    "\n",
    "minStack.top();    // return 0\n",
    "\n",
    "minStack.getMin(); // return -2\n",
    "'''"
   ]
  },
  {
   "cell_type": "code",
   "execution_count": null,
   "id": "cb62569e",
   "metadata": {},
   "outputs": [],
   "source": [
    "class MinStack:\n",
    "    def __init__(self):\n",
    "        self.stack = []\n",
    "        self.min_stack = []\n",
    "\n",
    "    def push(self, val):\n",
    "        self.stack.append(val)\n",
    "        if not self.min_stack or val <= self.min_stack[-1]:\n",
    "            self.min_stack.append(val)\n",
    "\n",
    "    def pop(self):\n",
    "        if self.stack[-1] == self.min_stack[-1]:\n",
    "            self.min_stack.pop()\n",
    "        self.stack.pop()\n",
    "\n",
    "    def top(self):\n",
    "        return self.stack[-1]\n",
    "\n",
    "    def getMin(self):\n",
    "        return self.min_stack[-1]\n"
   ]
  },
  {
   "cell_type": "code",
   "execution_count": null,
   "id": "1a49330f",
   "metadata": {},
   "outputs": [],
   "source": [
    "minStack = MinStack()\n",
    "minStack.push(-2)\n",
    "minStack.push(0)\n",
    "minStack.push(-3)\n",
    "print(minStack.getMin()\n",
    "minStack.pop()\n",
    "print(minStack.top())\n",
    "print(minStack.getMin())"
   ]
  },
  {
   "cell_type": "markdown",
   "id": "6cf3b9df",
   "metadata": {},
   "source": [
    "**Question 8**\n",
    "\n",
    "Given `n` non-negative integers representing an elevation map where the width of each bar is `1`, compute how much water it can trap after raining.\n",
    "\n",
    "**Example 1:**\n",
    "\n",
    "!https://assets.leetcode.com/uploads/2018/10/22/rainwatertrap.png\n",
    "\n",
    "```\n",
    "Input: height = [0,1,0,2,1,0,1,3,2,1,2,1]\n",
    "Output: 6\n",
    "Explanation: The above elevation map (black section) is represented by array [0,1,0,2,1,0,1,3,2,1,2,1]. In this case, 6 units of rain water (blue section) are being trapped.\n",
    "\n",
    "```\n",
    "\n",
    "**Example 2:**\n",
    "\n",
    "```\n",
    "Input: height = [4,2,0,3,2,5]\n",
    "Output: 9\n",
    "```"
   ]
  },
  {
   "cell_type": "code",
   "execution_count": null,
   "id": "25f65db2",
   "metadata": {},
   "outputs": [],
   "source": [
    "def trap(height:int)->int:\n",
    "    stack = []\n",
    "    water = 0\n",
    "    current = 0\n",
    "\n",
    "    while current < len(height):\n",
    "        while stack and height[current] > height[stack[-1]]:\n",
    "            top = stack.pop()\n",
    "            \n",
    "            if not stack:\n",
    "                break\n",
    "            \n",
    "            distance = current - stack[-1] - 1\n",
    "            bounded_height = min(height[current], height[stack[-1]]) - height[top]\n",
    "            water += distance * bounded_height\n",
    "\n",
    "        stack.append(current)\n",
    "        current += 1\n",
    "\n",
    "    return water"
   ]
  },
  {
   "cell_type": "code",
   "execution_count": null,
   "id": "05547224",
   "metadata": {},
   "outputs": [],
   "source": [
    "height = [0, 1, 0, 2, 1, 0, 1, 3, 2, 1, 2, 1]\n",
    "water_trapped = trap(height)\n",
    "print(water_trapped)"
   ]
  },
  {
   "cell_type": "code",
   "execution_count": null,
   "id": "9a1b6c7e",
   "metadata": {},
   "outputs": [],
   "source": [
    "height = [4,2,0,3,2,5]\n",
    "water_trapped = trap(height)\n",
    "print(water_trapped)"
   ]
  },
  {
   "cell_type": "code",
   "execution_count": null,
   "id": "cde86aa9",
   "metadata": {},
   "outputs": [],
   "source": []
  }
 ],
 "metadata": {
  "kernelspec": {
   "display_name": "Python 3 (ipykernel)",
   "language": "python",
   "name": "python3"
  },
  "language_info": {
   "codemirror_mode": {
    "name": "ipython",
    "version": 3
   },
   "file_extension": ".py",
   "mimetype": "text/x-python",
   "name": "python",
   "nbconvert_exporter": "python",
   "pygments_lexer": "ipython3",
   "version": "3.9.12"
  }
 },
 "nbformat": 4,
 "nbformat_minor": 5
}
