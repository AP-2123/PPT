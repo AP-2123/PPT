{
 "cells": [
  {
   "cell_type": "markdown",
   "id": "1514aa34",
   "metadata": {},
   "source": [
    "**Question 1**\n",
    "\n",
    "Given an integer array nums of length n and an integer target, find three integers\n",
    "in nums such that the sum is closest to the target.\n",
    "Return the sum of the three integers.\n",
    "\n",
    "You may assume that each input would have exactly one solution.\n",
    "\n",
    "**Example 1:**\n",
    "    \n",
    "Input: nums = [-1,2,1,-4], target = 1\n",
    "Output: 2\n",
    "\n",
    "**Explanation:** \n",
    "\n",
    "The sum that is closest to the target is 2. (-1 + 2 + 1 = 2)."
   ]
  },
  {
   "cell_type": "code",
   "execution_count": 1,
   "id": "40af96d0",
   "metadata": {},
   "outputs": [],
   "source": [
    "class Solution(object):\n",
    "    def threeSumClosest(self, nums, target):\n",
    "        nums.sort()\n",
    "        n = len(nums)\n",
    "        closest_sum = nums[0] + nums[1] + nums[2] # initialize closest sum\n",
    "        for i in range(n - 2):\n",
    "            left, right = i + 1, n - 1\n",
    "            while left < right: # two-pointer approach\n",
    "                sum = nums[i] + nums[left] + nums[right]\n",
    "                if sum == target: # sum equals target, return immediately\n",
    "                    return sum\n",
    "                elif sum < target:\n",
    "                    left += 1\n",
    "                else:\n",
    "                    right -= 1\n",
    "                if abs(sum - target) < abs(closest_sum - target): # update closest sum\n",
    "                    closest_sum = sum\n",
    "        return closest_sum"
   ]
  },
  {
   "cell_type": "code",
   "execution_count": 3,
   "id": "486c3bde",
   "metadata": {},
   "outputs": [
    {
     "data": {
      "text/plain": [
       "2"
      ]
     },
     "execution_count": 3,
     "metadata": {},
     "output_type": "execute_result"
    }
   ],
   "source": [
    "nums = [-1,2,1,-4]\n",
    "target = 1\n",
    "sol = Solution()\n",
    "sol.threeSumClosest(nums,target)"
   ]
  },
  {
   "cell_type": "markdown",
   "id": "6d8a111f",
   "metadata": {},
   "source": [
    "**Question 2**\n",
    "\n",
    "Given an array nums of n integers, return an array of all the unique quadruplets\n",
    "[nums[a], nums[b], nums[c], nums[d]] such that:\n",
    "           ● 0 <= a, b, c, d < n\n",
    "           ● a, b, c, and d are distinct.\n",
    "           ● nums[a] + nums[b] + nums[c] + nums[d] == target\n",
    "\n",
    "You may return the answer in any order.\n",
    "\n",
    "**Example 1:**\n",
    "    \n",
    "Input: nums = [1,0,-1,0,-2,2], target = 0\n",
    "Output: [[-2,-1,1,2],[-2,0,0,2],[-1,0,0,1]]"
   ]
  },
  {
   "cell_type": "code",
   "execution_count": 4,
   "id": "45e2558b",
   "metadata": {},
   "outputs": [],
   "source": [
    "class Solution(object):\n",
    "    def fourSum(self, nums, target):\n",
    "        quadruplets = []\n",
    "        n = len(nums)\n",
    "        # Sorting the array\n",
    "        nums.sort()\n",
    "        for i in range(n - 3):\n",
    "            # Skip duplicates\n",
    "            if i > 0 and nums[i] == nums[i - 1]:\n",
    "                continue\n",
    "            for j in range(i + 1, n - 2):\n",
    "                # Skip duplicates\n",
    "                if j > i + 1 and nums[j] == nums[j - 1]:\n",
    "                    continue\n",
    "                left = j + 1\n",
    "                right = n - 1\n",
    "                while left < right:\n",
    "                    sum = nums[i] + nums[j] + nums[left] + nums[right]\n",
    "                    if sum < target:\n",
    "                        left += 1\n",
    "                    elif sum > target:\n",
    "                        right -= 1\n",
    "                    else:\n",
    "                        quadruplets.append([nums[i], nums[j], nums[left], nums[right]])\n",
    "                        # Skip duplicates\n",
    "                        while left < right and nums[left] == nums[left + 1]:\n",
    "                            left += 1\n",
    "                        while left < right and nums[right] == nums[right - 1]:\n",
    "                            right -= 1\n",
    "                        left += 1\n",
    "                        right -= 1\n",
    "        return quadruplets"
   ]
  },
  {
   "cell_type": "code",
   "execution_count": 5,
   "id": "66d69ffd",
   "metadata": {},
   "outputs": [
    {
     "data": {
      "text/plain": [
       "[[-2, -1, 1, 2], [-2, 0, 0, 2], [-1, 0, 0, 1]]"
      ]
     },
     "execution_count": 5,
     "metadata": {},
     "output_type": "execute_result"
    }
   ],
   "source": [
    "sol = Solution()\n",
    "nums = [1,0,-1,0,-2,2]\n",
    "target = 0\n",
    "sol.fourSum(nums,target)"
   ]
  },
  {
   "cell_type": "markdown",
   "id": "e13cff79",
   "metadata": {},
   "source": [
    "**Question 3**\n",
    "\n",
    "A permutation of an array of integers is an arrangement of its members into a\n",
    "sequence or linear order.\n",
    "\n",
    "For example, for arr = [1,2,3], the following are all the permutations of arr:\n",
    "[1,2,3], [1,3,2], [2, 1, 3], [2, 3, 1], [3,1,2], [3,2,1].\n",
    "\n",
    "The next permutation of an array of integers is the next lexicographically greater\n",
    "permutation of its integer. More formally, if all the permutations of the array are\n",
    "sorted in one container according to their lexicographical order, then the next\n",
    "permutation of that array is the permutation that follows it in the sorted container.\n",
    "\n",
    "If such an arrangement is not possible, the array must be rearranged as the\n",
    "lowest possible order (i.e., sorted in ascending order).\n",
    "\n",
    "● For example, the next permutation of arr = [1,2,3] is [1,3,2].\n",
    "● Similarly, the next permutation of arr = [2,3,1] is [3,1,2].\n",
    "● While the next permutation of arr = [3,2,1] is [1,2,3] because [3,2,1] does not\n",
    "have a lexicographical larger rearrangement.\n",
    "\n",
    "Given an array of integers nums, find the next permutation of nums.\n",
    "The replacement must be in place and use only constant extra memory.\n",
    "\n",
    "**Example 1:**\n",
    "    \n",
    "Input: nums = [1,2,3]\n",
    "Output: [1,3,2]\n",
    "\n",
    "</aside>"
   ]
  },
  {
   "cell_type": "code",
   "execution_count": 17,
   "id": "60674f43",
   "metadata": {},
   "outputs": [
    {
     "name": "stdout",
     "output_type": "stream",
     "text": [
      "[1, 3, 2]\n"
     ]
    }
   ],
   "source": [
    "def nextPermutation(nums):\n",
    "    for i in range(len(nums) - 1, 0, -1):\n",
    "        if nums[i - 1] < nums[i]:\n",
    "            nums[i:] = sorted(nums[i:])\n",
    "            j = i - 1\n",
    "            for k in range(i, len(nums)):\n",
    "                if nums[j] < nums[k]:\n",
    "                    nums[k], nums[j] = nums[j], nums[k]\n",
    "                    return nums\n",
    "    nums.reverse()\n",
    "    return nums\n",
    "\n",
    "nums = [1, 2, 3]\n",
    "next_permutation = nextPermutation(nums)\n",
    "print(next_permutation)\n"
   ]
  },
  {
   "cell_type": "markdown",
   "id": "8e0c8037",
   "metadata": {},
   "source": [
    "**Question 4**\n",
    "\n",
    "Given a sorted array of distinct integers and a target value, return the index if the\n",
    "target is found. If not, return the index where it would be if it were inserted in\n",
    "order.\n",
    "\n",
    "You must write an algorithm with O(log n) runtime complexity.\n",
    "\n",
    "**Example 1:** \n",
    "Input: nums = [1,3,5,6], target = 5\n",
    "Output: 2"
   ]
  },
  {
   "cell_type": "code",
   "execution_count": 24,
   "id": "44fdcf2c",
   "metadata": {},
   "outputs": [],
   "source": [
    "class Solution(object):\n",
    "    def searchInsert(self, nums, target):\n",
    "        lo = 0\n",
    "        hi = len(nums) - 1\n",
    "        while lo <= hi:\n",
    "            mid = (lo + hi)//2\n",
    "            if nums[mid] < target:\n",
    "                lo = mid + 1\n",
    "            elif nums[mid] > target:\n",
    "                hi = mid - 1\n",
    "            else:\n",
    "                return mid\n",
    "        return hi + 1"
   ]
  },
  {
   "cell_type": "code",
   "execution_count": 25,
   "id": "c078db78",
   "metadata": {},
   "outputs": [
    {
     "data": {
      "text/plain": [
       "3"
      ]
     },
     "execution_count": 25,
     "metadata": {},
     "output_type": "execute_result"
    }
   ],
   "source": [
    "Input: nums = [1,3,5,6]\n",
    "target = 5\n",
    "sol = Solution()\n",
    "sol.searchInsert(nums,target)"
   ]
  },
  {
   "cell_type": "markdown",
   "id": "52e5ef7c",
   "metadata": {},
   "source": [
    "**Question 5**\n",
    "\n",
    "You are given a large integer represented as an integer array digits, where each\n",
    "digits[i] is the ith digit of the integer. The digits are ordered from most significant\n",
    "to least significant in left-to-right order. The large integer does not contain any\n",
    "leading 0's.\n",
    "\n",
    "Increment the large integer by one and return the resulting array of digits.\n",
    "\n",
    "**Example 1:**\n",
    "    \n",
    "Input: digits = [1,2,3]\n",
    "Output: [1,2,4]\n",
    "\n",
    "**Explanation:** \n",
    "\n",
    "The array represents the integer 123.\n",
    "Incrementing by one gives 123 + 1 = 124.\n",
    "Thus, the result should be [1,2,4]."
   ]
  },
  {
   "cell_type": "code",
   "execution_count": 27,
   "id": "c305f855",
   "metadata": {},
   "outputs": [],
   "source": [
    "class Solution(object):\n",
    "    def plusOne(self, digits):\n",
    "        digits=[str(i) for i in digits]\n",
    "        s=''.join(digits)\n",
    "        a=int(s)+1\n",
    "        l=list(str(a))\n",
    "        l=[int(i) for i in l]\n",
    "        return l"
   ]
  },
  {
   "cell_type": "code",
   "execution_count": 28,
   "id": "7d3062d3",
   "metadata": {},
   "outputs": [
    {
     "data": {
      "text/plain": [
       "[1, 2, 4]"
      ]
     },
     "execution_count": 28,
     "metadata": {},
     "output_type": "execute_result"
    }
   ],
   "source": [
    "digits = [1,2,3] \n",
    "Output: [1,2,4]\n",
    "sol = Solution()\n",
    "sol.plusOne(digits)"
   ]
  },
  {
   "cell_type": "markdown",
   "id": "f506f523",
   "metadata": {},
   "source": [
    "**Question 6**\n",
    "\n",
    "Given a non-empty array of integers nums, every element appears twice except\n",
    "for one. Find that single one.\n",
    "\n",
    "You must implement a solution with a linear runtime complexity and use only\n",
    "constant extra space.\n",
    "\n",
    "**Example 1:**\n",
    "    \n",
    "Input: nums = [2,2,1]\n",
    "Output: 1"
   ]
  },
  {
   "cell_type": "code",
   "execution_count": 29,
   "id": "472d154a",
   "metadata": {},
   "outputs": [],
   "source": [
    "class Solution(object):\n",
    "    def singleNumber(self, nums):\n",
    "        ones = 0\n",
    "        twos = 0\n",
    "\n",
    "        for num in nums:\n",
    "            ones = (ones ^ num) & ~twos\n",
    "            twos = (twos ^ num) & ~ones\n",
    "\n",
    "        return ones"
   ]
  },
  {
   "cell_type": "code",
   "execution_count": 30,
   "id": "e0134d87",
   "metadata": {},
   "outputs": [
    {
     "data": {
      "text/plain": [
       "1"
      ]
     },
     "execution_count": 30,
     "metadata": {},
     "output_type": "execute_result"
    }
   ],
   "source": [
    "nums = [2,2,1] \n",
    "sol = Solution()\n",
    "sol.singleNumber(nums)"
   ]
  },
  {
   "cell_type": "markdown",
   "id": "54596e78",
   "metadata": {},
   "source": [
    "**Question 7**\n",
    "\n",
    "You are given an inclusive range [lower, upper] and a sorted unique integer array\n",
    "nums, where all elements are within the inclusive range.\n",
    "\n",
    "A number x is considered missing if x is in the range [lower, upper] and x is not in\n",
    "nums.\n",
    "\n",
    "Return the shortest sorted list of ranges that exactly covers all the missing\n",
    "numbers. That is, no element of nums is included in any of the ranges, and each\n",
    "missing number is covered by one of the ranges.\n",
    "\n",
    "**Example 1:**\n",
    "    \n",
    "Input: nums = [0,1,3,50,75], lower = 0, upper = 99\n",
    "Output: [[2,2],[4,49],[51,74],[76,99]]\n",
    "\n",
    "Explanation: The ranges are:\n",
    "[2,2]\n",
    "[4,49]\n",
    "[51,74]\n",
    "[76,99]"
   ]
  },
  {
   "cell_type": "markdown",
   "id": "97f8a0ed",
   "metadata": {},
   "source": [
    "**Question 8**\n",
    "\n",
    "Given an array of meeting time intervals where intervals[i] = [starti, endi],\n",
    "determine if a person could attend all meetings.\n",
    "\n",
    "**Example 1:**\n",
    "    \n",
    "Input: intervals = [[0,30],[5,10],[15,20]]\n",
    "Output: false"
   ]
  },
  {
   "cell_type": "code",
   "execution_count": null,
   "id": "d548ce1b",
   "metadata": {},
   "outputs": [],
   "source": []
  }
 ],
 "metadata": {
  "kernelspec": {
   "display_name": "Python 3 (ipykernel)",
   "language": "python",
   "name": "python3"
  },
  "language_info": {
   "codemirror_mode": {
    "name": "ipython",
    "version": 3
   },
   "file_extension": ".py",
   "mimetype": "text/x-python",
   "name": "python",
   "nbconvert_exporter": "python",
   "pygments_lexer": "ipython3",
   "version": "3.9.12"
  }
 },
 "nbformat": 4,
 "nbformat_minor": 5
}
